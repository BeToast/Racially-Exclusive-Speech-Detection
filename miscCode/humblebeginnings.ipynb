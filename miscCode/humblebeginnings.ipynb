{
  "cells": [
    {
      "cell_type": "code",
      "execution_count": null,
      "metadata": {
        "colab": {
          "base_uri": "https://localhost:8080/"
        },
        "id": "RSw1tYZclx9z",
        "outputId": "cee17953-e79a-44eb-d366-946b73a0a8b7"
      },
      "outputs": [
        {
          "name": "stdout",
          "output_type": "stream",
          "text": [
            "(54, 2)\n",
            "                                                text inc\n",
            "0  African immigrants are only able to seek unqua...   0\n",
            "1         Roma/Romani people live in extreme poverty   0\n",
            "2  The Commissioner welcomed a group of Asian vis...   0\n",
            "3  Roma/Romani people had a meeting with the Comm...   0\n",
            "4    I met a group of African American people today.   0\n"
          ]
        }
      ],
      "source": [
        "import pandas as pd\n",
        "import numpy as np\n",
        "\n",
        "data_file=\"Inclusive_Exclusive race sentences - Sheet1.csv\"\n",
        "\n",
        "exclusive_column = \"Exclusive\"\n",
        "inclusive_column = \"Inclusive\"\n",
        "\n",
        "data = pd.read_csv(data_file)\n",
        "data_exc = pd.DataFrame(data[exclusive_column])\n",
        "data_inc = pd.DataFrame(data[inclusive_column])\n",
        "\n",
        "data_exc_labeled = data_exc\n",
        "data_exc_labeled['inc'] = '0'\n",
        "data_exc_labeled.rename(columns={exclusive_column:'text'}, inplace = True)\n",
        "\n",
        "data_inc_labeled = data_inc\n",
        "data_inc_labeled['inc'] = '1'\n",
        "data_inc_labeled.rename(columns={inclusive_column:'text'}, inplace = True)\n",
        "\n",
        "data_both = pd.concat([data_exc_labeled, data_inc_labeled])\n",
        "\n",
        "print(data_both.shape)\n",
        "print(data_both.head())"
      ]
    },
    {
      "cell_type": "code",
      "execution_count": null,
      "metadata": {
        "colab": {
          "base_uri": "https://localhost:8080/",
          "height": 236
        },
        "id": "UU4ARFxylx93",
        "outputId": "2614cc1b-2a97-46fd-ccc2-735399c3dae4"
      },
      "outputs": [
        {
          "data": {
            "text/html": [
              "\n",
              "  <div id=\"df-d81c1777-4c3c-4a96-8a81-5b9ff380ff76\">\n",
              "    <div class=\"colab-df-container\">\n",
              "      <div>\n",
              "<style scoped>\n",
              "    .dataframe tbody tr th:only-of-type {\n",
              "        vertical-align: middle;\n",
              "    }\n",
              "\n",
              "    .dataframe tbody tr th {\n",
              "        vertical-align: top;\n",
              "    }\n",
              "\n",
              "    .dataframe thead th {\n",
              "        text-align: right;\n",
              "    }\n",
              "</style>\n",
              "<table border=\"1\" class=\"dataframe\">\n",
              "  <thead>\n",
              "    <tr style=\"text-align: right;\">\n",
              "      <th></th>\n",
              "      <th>able</th>\n",
              "      <th>achieve</th>\n",
              "      <th>affect</th>\n",
              "      <th>africa</th>\n",
              "      <th>african</th>\n",
              "      <th>all</th>\n",
              "      <th>always</th>\n",
              "      <th>american</th>\n",
              "      <th>americans</th>\n",
              "      <th>and</th>\n",
              "      <th>...</th>\n",
              "      <th>welcomed</th>\n",
              "      <th>welfare</th>\n",
              "      <th>what</th>\n",
              "      <th>where</th>\n",
              "      <th>white</th>\n",
              "      <th>with</th>\n",
              "      <th>working</th>\n",
              "      <th>worse</th>\n",
              "      <th>you</th>\n",
              "      <th>your</th>\n",
              "    </tr>\n",
              "  </thead>\n",
              "  <tbody>\n",
              "    <tr>\n",
              "      <th>0</th>\n",
              "      <td>0.388024</td>\n",
              "      <td>0.0</td>\n",
              "      <td>0.0</td>\n",
              "      <td>0.0</td>\n",
              "      <td>0.234697</td>\n",
              "      <td>0.0</td>\n",
              "      <td>0.0</td>\n",
              "      <td>0.000000</td>\n",
              "      <td>0.0</td>\n",
              "      <td>0.0</td>\n",
              "      <td>...</td>\n",
              "      <td>0.000000</td>\n",
              "      <td>0.0</td>\n",
              "      <td>0.0</td>\n",
              "      <td>0.0</td>\n",
              "      <td>0.0</td>\n",
              "      <td>0.000000</td>\n",
              "      <td>0.0</td>\n",
              "      <td>0.0</td>\n",
              "      <td>0.0</td>\n",
              "      <td>0.0</td>\n",
              "    </tr>\n",
              "    <tr>\n",
              "      <th>1</th>\n",
              "      <td>0.000000</td>\n",
              "      <td>0.0</td>\n",
              "      <td>0.0</td>\n",
              "      <td>0.0</td>\n",
              "      <td>0.000000</td>\n",
              "      <td>0.0</td>\n",
              "      <td>0.0</td>\n",
              "      <td>0.000000</td>\n",
              "      <td>0.0</td>\n",
              "      <td>0.0</td>\n",
              "      <td>...</td>\n",
              "      <td>0.000000</td>\n",
              "      <td>0.0</td>\n",
              "      <td>0.0</td>\n",
              "      <td>0.0</td>\n",
              "      <td>0.0</td>\n",
              "      <td>0.000000</td>\n",
              "      <td>0.0</td>\n",
              "      <td>0.0</td>\n",
              "      <td>0.0</td>\n",
              "      <td>0.0</td>\n",
              "    </tr>\n",
              "    <tr>\n",
              "      <th>2</th>\n",
              "      <td>0.000000</td>\n",
              "      <td>0.0</td>\n",
              "      <td>0.0</td>\n",
              "      <td>0.0</td>\n",
              "      <td>0.000000</td>\n",
              "      <td>0.0</td>\n",
              "      <td>0.0</td>\n",
              "      <td>0.000000</td>\n",
              "      <td>0.0</td>\n",
              "      <td>0.0</td>\n",
              "      <td>...</td>\n",
              "      <td>0.439151</td>\n",
              "      <td>0.0</td>\n",
              "      <td>0.0</td>\n",
              "      <td>0.0</td>\n",
              "      <td>0.0</td>\n",
              "      <td>0.000000</td>\n",
              "      <td>0.0</td>\n",
              "      <td>0.0</td>\n",
              "      <td>0.0</td>\n",
              "      <td>0.0</td>\n",
              "    </tr>\n",
              "    <tr>\n",
              "      <th>3</th>\n",
              "      <td>0.000000</td>\n",
              "      <td>0.0</td>\n",
              "      <td>0.0</td>\n",
              "      <td>0.0</td>\n",
              "      <td>0.000000</td>\n",
              "      <td>0.0</td>\n",
              "      <td>0.0</td>\n",
              "      <td>0.000000</td>\n",
              "      <td>0.0</td>\n",
              "      <td>0.0</td>\n",
              "      <td>...</td>\n",
              "      <td>0.000000</td>\n",
              "      <td>0.0</td>\n",
              "      <td>0.0</td>\n",
              "      <td>0.0</td>\n",
              "      <td>0.0</td>\n",
              "      <td>0.385843</td>\n",
              "      <td>0.0</td>\n",
              "      <td>0.0</td>\n",
              "      <td>0.0</td>\n",
              "      <td>0.0</td>\n",
              "    </tr>\n",
              "    <tr>\n",
              "      <th>4</th>\n",
              "      <td>0.000000</td>\n",
              "      <td>0.0</td>\n",
              "      <td>0.0</td>\n",
              "      <td>0.0</td>\n",
              "      <td>0.315558</td>\n",
              "      <td>0.0</td>\n",
              "      <td>0.0</td>\n",
              "      <td>0.410906</td>\n",
              "      <td>0.0</td>\n",
              "      <td>0.0</td>\n",
              "      <td>...</td>\n",
              "      <td>0.000000</td>\n",
              "      <td>0.0</td>\n",
              "      <td>0.0</td>\n",
              "      <td>0.0</td>\n",
              "      <td>0.0</td>\n",
              "      <td>0.000000</td>\n",
              "      <td>0.0</td>\n",
              "      <td>0.0</td>\n",
              "      <td>0.0</td>\n",
              "      <td>0.0</td>\n",
              "    </tr>\n",
              "  </tbody>\n",
              "</table>\n",
              "<p>5 rows × 188 columns</p>\n",
              "</div>\n",
              "      <button class=\"colab-df-convert\" onclick=\"convertToInteractive('df-d81c1777-4c3c-4a96-8a81-5b9ff380ff76')\"\n",
              "              title=\"Convert this dataframe to an interactive table.\"\n",
              "              style=\"display:none;\">\n",
              "        \n",
              "  <svg xmlns=\"http://www.w3.org/2000/svg\" height=\"24px\"viewBox=\"0 0 24 24\"\n",
              "       width=\"24px\">\n",
              "    <path d=\"M0 0h24v24H0V0z\" fill=\"none\"/>\n",
              "    <path d=\"M18.56 5.44l.94 2.06.94-2.06 2.06-.94-2.06-.94-.94-2.06-.94 2.06-2.06.94zm-11 1L8.5 8.5l.94-2.06 2.06-.94-2.06-.94L8.5 2.5l-.94 2.06-2.06.94zm10 10l.94 2.06.94-2.06 2.06-.94-2.06-.94-.94-2.06-.94 2.06-2.06.94z\"/><path d=\"M17.41 7.96l-1.37-1.37c-.4-.4-.92-.59-1.43-.59-.52 0-1.04.2-1.43.59L10.3 9.45l-7.72 7.72c-.78.78-.78 2.05 0 2.83L4 21.41c.39.39.9.59 1.41.59.51 0 1.02-.2 1.41-.59l7.78-7.78 2.81-2.81c.8-.78.8-2.07 0-2.86zM5.41 20L4 18.59l7.72-7.72 1.47 1.35L5.41 20z\"/>\n",
              "  </svg>\n",
              "      </button>\n",
              "      \n",
              "  <style>\n",
              "    .colab-df-container {\n",
              "      display:flex;\n",
              "      flex-wrap:wrap;\n",
              "      gap: 12px;\n",
              "    }\n",
              "\n",
              "    .colab-df-convert {\n",
              "      background-color: #E8F0FE;\n",
              "      border: none;\n",
              "      border-radius: 50%;\n",
              "      cursor: pointer;\n",
              "      display: none;\n",
              "      fill: #1967D2;\n",
              "      height: 32px;\n",
              "      padding: 0 0 0 0;\n",
              "      width: 32px;\n",
              "    }\n",
              "\n",
              "    .colab-df-convert:hover {\n",
              "      background-color: #E2EBFA;\n",
              "      box-shadow: 0px 1px 2px rgba(60, 64, 67, 0.3), 0px 1px 3px 1px rgba(60, 64, 67, 0.15);\n",
              "      fill: #174EA6;\n",
              "    }\n",
              "\n",
              "    [theme=dark] .colab-df-convert {\n",
              "      background-color: #3B4455;\n",
              "      fill: #D2E3FC;\n",
              "    }\n",
              "\n",
              "    [theme=dark] .colab-df-convert:hover {\n",
              "      background-color: #434B5C;\n",
              "      box-shadow: 0px 1px 3px 1px rgba(0, 0, 0, 0.15);\n",
              "      filter: drop-shadow(0px 1px 2px rgba(0, 0, 0, 0.3));\n",
              "      fill: #FFFFFF;\n",
              "    }\n",
              "  </style>\n",
              "\n",
              "      <script>\n",
              "        const buttonEl =\n",
              "          document.querySelector('#df-d81c1777-4c3c-4a96-8a81-5b9ff380ff76 button.colab-df-convert');\n",
              "        buttonEl.style.display =\n",
              "          google.colab.kernel.accessAllowed ? 'block' : 'none';\n",
              "\n",
              "        async function convertToInteractive(key) {\n",
              "          const element = document.querySelector('#df-d81c1777-4c3c-4a96-8a81-5b9ff380ff76');\n",
              "          const dataTable =\n",
              "            await google.colab.kernel.invokeFunction('convertToInteractive',\n",
              "                                                     [key], {});\n",
              "          if (!dataTable) return;\n",
              "\n",
              "          const docLinkHtml = 'Like what you see? Visit the ' +\n",
              "            '<a target=\"_blank\" href=https://colab.research.google.com/notebooks/data_table.ipynb>data table notebook</a>'\n",
              "            + ' to learn more about interactive tables.';\n",
              "          element.innerHTML = '';\n",
              "          dataTable['output_type'] = 'display_data';\n",
              "          await google.colab.output.renderOutput(dataTable, element);\n",
              "          const docLink = document.createElement('div');\n",
              "          docLink.innerHTML = docLinkHtml;\n",
              "          element.appendChild(docLink);\n",
              "        }\n",
              "      </script>\n",
              "    </div>\n",
              "  </div>\n",
              "  "
            ],
            "text/plain": [
              "       able  achieve  affect  africa   african  all  always  american  \\\n",
              "0  0.388024      0.0     0.0     0.0  0.234697  0.0     0.0  0.000000   \n",
              "1  0.000000      0.0     0.0     0.0  0.000000  0.0     0.0  0.000000   \n",
              "2  0.000000      0.0     0.0     0.0  0.000000  0.0     0.0  0.000000   \n",
              "3  0.000000      0.0     0.0     0.0  0.000000  0.0     0.0  0.000000   \n",
              "4  0.000000      0.0     0.0     0.0  0.315558  0.0     0.0  0.410906   \n",
              "\n",
              "   americans  and  ...  welcomed  welfare  what  where  white      with  \\\n",
              "0        0.0  0.0  ...  0.000000      0.0   0.0    0.0    0.0  0.000000   \n",
              "1        0.0  0.0  ...  0.000000      0.0   0.0    0.0    0.0  0.000000   \n",
              "2        0.0  0.0  ...  0.439151      0.0   0.0    0.0    0.0  0.000000   \n",
              "3        0.0  0.0  ...  0.000000      0.0   0.0    0.0    0.0  0.385843   \n",
              "4        0.0  0.0  ...  0.000000      0.0   0.0    0.0    0.0  0.000000   \n",
              "\n",
              "   working  worse  you  your  \n",
              "0      0.0    0.0  0.0   0.0  \n",
              "1      0.0    0.0  0.0   0.0  \n",
              "2      0.0    0.0  0.0   0.0  \n",
              "3      0.0    0.0  0.0   0.0  \n",
              "4      0.0    0.0  0.0   0.0  \n",
              "\n",
              "[5 rows x 188 columns]"
            ]
          },
          "execution_count": 48,
          "metadata": {},
          "output_type": "execute_result"
        }
      ],
      "source": [
        "from sklearn.feature_extraction.text import TfidfVectorizer\n",
        "\n",
        "vectorizer = TfidfVectorizer(max_features=1000)\n",
        "vectors = vectorizer.fit_transform(data_both.text)\n",
        "words_df = pd.DataFrame(vectors.toarray(), columns=vectorizer.get_feature_names_out())\n",
        "words_df.head()"
      ]
    },
    {
      "cell_type": "code",
      "execution_count": null,
      "metadata": {
        "id": "X34f2rotlx97"
      },
      "outputs": [],
      "source": [
        "X = words_df\n",
        "y = data_both.inc"
      ]
    },
    {
      "cell_type": "code",
      "execution_count": null,
      "metadata": {
        "id": "R3IYh0yflx9-"
      },
      "outputs": [],
      "source": [
        "from sklearn.linear_model import LogisticRegression\n",
        "from sklearn.ensemble import RandomForestClassifier\n",
        "from sklearn.svm import LinearSVC\n",
        "from sklearn.naive_bayes import MultinomialNB"
      ]
    },
    {
      "cell_type": "markdown",
      "metadata": {
        "id": "xscQTrZDm3pZ"
      },
      "source": [
        "now we are going to use all of the above algorithms^ to create a basline on this dataset to make an argument for DNN."
      ]
    },
    {
      "cell_type": "code",
      "execution_count": 51,
      "metadata": {
        "colab": {
          "base_uri": "https://localhost:8080/"
        },
        "id": "0D5nAHdVnAw3",
        "outputId": "0a672314-1564-4889-f264-7450327970f7"
      },
<<<<<<< HEAD:miscCode/humblebeginnings.ipynb
=======
      "execution_count": null,
>>>>>>> 0a5a2d8359d40f0b7fcabcc67febf4fdcc472ba8:mainDir/humblebeginnings.ipynb
      "outputs": [
        {
          "name": "stdout",
          "output_type": "stream",
          "text": [
            "CPU times: user 11.3 ms, sys: 11.7 ms, total: 22.9 ms\n",
            "Wall time: 19.4 ms\n"
          ]
        },
        {
          "data": {
            "text/plain": [
              "LogisticRegression(C=1000000000.0, max_iter=1000)"
            ]
          },
          "execution_count": 51,
          "metadata": {},
          "output_type": "execute_result"
        }
      ],
      "source": [
        "#Logistic Regression.\n",
        "%%time\n",
        "logreg = LogisticRegression(C=1e9, solver='lbfgs', max_iter=1000)\n",
        "logreg.fit(X, y)"
      ]
    },
    {
      "cell_type": "code",
      "execution_count": null,
      "metadata": {
        "colab": {
          "base_uri": "https://localhost:8080/"
        },
        "id": "wbhRoWV5mYoy",
        "outputId": "72706209-9f27-451c-9a2f-e00043d0f849"
      },
      "outputs": [
        {
          "name": "stdout",
          "output_type": "stream",
          "text": [
            "CPU times: user 92.7 ms, sys: 62.8 ms, total: 156 ms\n",
            "Wall time: 96 ms\n"
          ]
        },
        {
          "data": {
            "text/plain": [
              "RandomForestClassifier(n_estimators=50)"
            ]
          },
          "execution_count": 52,
          "metadata": {},
          "output_type": "execute_result"
        }
      ],
      "source": [
        "#Random Forest\n",
        "%%time\n",
        "forest = RandomForestClassifier(n_estimators=50)\n",
        "forest.fit(X, y)"
      ]
    },
    {
      "cell_type": "code",
      "execution_count": 53,
      "metadata": {
        "colab": {
          "base_uri": "https://localhost:8080/"
        },
        "id": "hinXnJAsndgn",
        "outputId": "bcd9041f-54a4-4cd0-f6e0-e1e8b5e53215"
      },
<<<<<<< HEAD:miscCode/humblebeginnings.ipynb
=======
      "execution_count": null,
>>>>>>> 0a5a2d8359d40f0b7fcabcc67febf4fdcc472ba8:mainDir/humblebeginnings.ipynb
      "outputs": [
        {
          "name": "stdout",
          "output_type": "stream",
          "text": [
            "CPU times: user 4.26 ms, sys: 923 µs, total: 5.19 ms\n",
            "Wall time: 4.65 ms\n"
          ]
        },
        {
          "data": {
            "text/plain": [
              "LinearSVC()"
            ]
          },
          "execution_count": 53,
          "metadata": {},
          "output_type": "execute_result"
        }
      ],
      "source": [
        "# LinearSVC\n",
        "%%time\n",
        "svc = LinearSVC()\n",
        "svc.fit(X, y)"
      ]
    },
    {
      "cell_type": "code",
      "execution_count": null,
      "metadata": {
        "colab": {
          "base_uri": "https://localhost:8080/"
        },
        "id": "53axBcIVmYoz",
        "outputId": "82c94f43-6c2f-43d9-f4ff-ec366dacc071"
      },
      "outputs": [
        {
          "name": "stdout",
          "output_type": "stream",
          "text": [
            "CPU times: user 5.07 ms, sys: 0 ns, total: 5.07 ms\n",
            "Wall time: 4.48 ms\n"
          ]
        },
        {
          "data": {
            "text/plain": [
              "MultinomialNB()"
            ]
          },
          "execution_count": 54,
          "metadata": {},
          "output_type": "execute_result"
        }
      ],
      "source": [
        "# MultinomialNB\n",
        "%%time\n",
        "bayes = MultinomialNB()\n",
        "bayes.fit(X, y)"
      ]
    },
    {
      "cell_type": "markdown",
      "metadata": {
        "id": "i_KNPwtEoNFS"
      },
      "source": [
        "Using our models!!  \n",
        "This is a simple test set I am using."
      ]
    },
    {
      "cell_type": "code",
      "execution_count": 55,
      "metadata": {
        "colab": {
          "base_uri": "https://localhost:8080/"
        },
        "id": "PAWsDcNeoQB9",
        "outputId": "14cfb07e-43d2-41e1-9444-fc2a5b73ca99"
      },
<<<<<<< HEAD:miscCode/humblebeginnings.ipynb
=======
      "execution_count": null,
>>>>>>> 0a5a2d8359d40f0b7fcabcc67febf4fdcc472ba8:mainDir/humblebeginnings.ipynb
      "outputs": [
        {
          "name": "stdout",
          "output_type": "stream",
          "text": [
            "(8, 2)\n",
            "                                                text  inc\n",
            "0  A white person would be well suited for this job.    0\n",
            "1                 Anyone that is smart will do well.    1\n",
            "2                       Asians do not speak English.    0\n",
            "3         Everyone has the potential to be a doctor.    1\n",
            "4              All people deserve equal opportunity.    1\n",
            "5                   Africans Americans are criminals    0\n",
            "6          Immigrants should have less voting power.    0\n",
            "7                  Do not judge a book by its cover.    1\n"
          ]
        }
      ],
      "source": [
        "data_file=\"SimpleClassifierTestSet - Sheet1.csv\"\n",
        "data_test = pd.read_csv(data_file)\n",
        "print(data_test.shape)\n",
        "print(data_test)"
      ]
    },
    {
      "cell_type": "code",
      "execution_count": null,
      "metadata": {
        "colab": {
          "base_uri": "https://localhost:8080/"
        },
        "id": "smX-9eGimYo2",
        "outputId": "60b5fb70-78e8-400f-de4f-329023af91dd"
      },
      "outputs": [
        {
          "name": "stdout",
          "output_type": "stream",
          "text": [
            "['able' 'achieve' 'affect' 'africa' 'african' 'all' 'always' 'american'\n",
            " 'americans' 'and' 'are' 'as' 'asia' 'asian' 'asians' 'aspects' 'bad' 'be'\n",
            " 'because' 'beer' 'being' 'believe' 'benefit' 'best' 'biased' 'black'\n",
            " 'bomb' 'built' 'can' 'cannot' 'color' 'commissioner' 'common'\n",
            " 'communites' 'congo' 'criminals' 'culture' 'curry' 'did' 'difficult'\n",
            " 'disciplined' 'disparities' 'do' 'does' 'dominant' 'due' 'eastern'\n",
            " 'easterns' 'eat' 'edjucation' 'enjoy' 'equal' 'ethnically' 'ethnicity'\n",
            " 'everything' 'existing' 'experience' 'extreme' 'fair' 'family' 'for'\n",
            " 'fork' 'from' 'future' 'garden' 'german' 'germans' 'group' 'grow' 'had'\n",
            " 'hands' 'hard' 'has' 'have' 'he' 'here' 'heritage' 'higher' 'historical'\n",
            " 'illegaly' 'immigrants' 'immigrate' 'in' 'incriminate' 'indians'\n",
            " 'indigenous' 'inherently' 'is' 'it' 'japan' 'jobs' 'judicial' 'kenya'\n",
            " 'korea' 'lack' 'lead' 'live' 'looks' 'love' 'many' 'meeting' 'met'\n",
            " 'middle' 'migrants' 'more' 'must' 'native' 'nigeria' 'not' 'of' 'often'\n",
            " 'on' 'only' 'opportunities' 'opportunity' 'oppression' 'oppressors'\n",
            " 'oriental' 'origins' 'other' 'outcasts' 'overrepresented' 'past' 'people'\n",
            " 'poverty' 'prefer' 'privelage' 'probably' 'public' 'quality' 'race'\n",
            " 'races' 'racism' 'railroad' 'representatives' 'reputation' 'result'\n",
            " 'roma' 'romani' 'same' 'saw' 'see' 'seek' 'show' 'similar' 'slovakian'\n",
            " 'smart' 'so' 'some' 'south' 'states' 'statistics' 'structural' 'struggle'\n",
            " 'students' 'such' 'system' 'systematic' 'systemic' 'systems' 'than'\n",
            " 'that' 'the' 'their' 'they' 'to' 'today' 'transcontinental' 'tribal'\n",
            " 'tribe' 'typical' 'typically' 'underrepresented' 'unejucated'\n",
            " 'unqualified' 'up' 'use' 'visitors' 'welcomed' 'welfare' 'what' 'where'\n",
            " 'white' 'with' 'working' 'worse' 'you' 'your']\n"
          ]
        }
      ],
      "source": [
        "print(vectorizer.get_feature_names_out())"
      ]
    },
    {
      "cell_type": "code",
      "execution_count": 56,
      "metadata": {
        "id": "rkAY5w0oCXlJ"
      },
<<<<<<< HEAD:miscCode/humblebeginnings.ipynb
      "outputs": [],
      "source": []
=======
      "execution_count": null,
      "outputs": []
>>>>>>> 0a5a2d8359d40f0b7fcabcc67febf4fdcc472ba8:mainDir/humblebeginnings.ipynb
    },
    {
      "cell_type": "code",
      "execution_count": null,
      "metadata": {
        "colab": {
          "base_uri": "https://localhost:8080/"
        },
        "id": "5IBGwPtSmYo3",
        "outputId": "92443bde-6018-4b74-b297-c9837c3be070"
      },
      "outputs": [
        {
          "name": "stdout",
          "output_type": "stream",
          "text": [
            "   able  achieve  affect  africa  african       all  always  american  \\\n",
            "0   0.0      0.0     0.0     0.0      0.0  0.000000     0.0       0.0   \n",
            "1   0.0      0.0     0.0     0.0      0.0  0.000000     0.0       0.0   \n",
            "2   0.0      0.0     0.0     0.0      0.0  0.000000     0.0       0.0   \n",
            "3   0.0      0.0     0.0     0.0      0.0  0.000000     0.0       0.0   \n",
            "4   0.0      0.0     0.0     0.0      0.0  0.571508     0.0       0.0   \n",
            "\n",
            "   americans  and  ...  welcomed  welfare  what  where     white  with  \\\n",
            "0        0.0  0.0  ...       0.0      0.0   0.0    0.0  0.465444   0.0   \n",
            "1        0.0  0.0  ...       0.0      0.0   0.0    0.0  0.000000   0.0   \n",
            "2        0.0  0.0  ...       0.0      0.0   0.0    0.0  0.000000   0.0   \n",
            "3        0.0  0.0  ...       0.0      0.0   0.0    0.0  0.000000   0.0   \n",
            "4        0.0  0.0  ...       0.0      0.0   0.0    0.0  0.000000   0.0   \n",
            "\n",
            "   working  worse  you  your  \n",
            "0      0.0    0.0  0.0   0.0  \n",
            "1      0.0    0.0  0.0   0.0  \n",
            "2      0.0    0.0  0.0   0.0  \n",
            "3      0.0    0.0  0.0   0.0  \n",
            "4      0.0    0.0  0.0   0.0  \n",
            "\n",
            "[5 rows x 188 columns]\n",
            "(8, 188)\n"
          ]
        }
      ],
      "source": [
        "# Put it through the vectoriser\n",
        "\n",
        "# transform, not fit_transform, because we already learned all our words\n",
        "data_test_vectors = vectorizer.transform(data_test.text)\n",
        "data_test_words_df = pd.DataFrame(data_test_vectors.toarray(), columns=vectorizer.get_feature_names_out())\n",
        "print(data_test_words_df.head())\n",
        "print(data_test_words_df.shape)"
      ]
    },
    {
      "cell_type": "markdown",
      "metadata": {
        "id": "Y_W-EfIaDPLc"
      },
      "source": [
        "Our data is all stored in Tf/Idf...  \n",
        "so there is 188 columns, one for each word used in all training and test data."
      ]
    },
    {
      "cell_type": "code",
      "execution_count": null,
      "metadata": {
        "id": "YBKodxsnmYo6"
      },
      "outputs": [],
      "source": [
        "# Predict using all our models. \n",
        "\n",
        "# Logistic Regression predictions + probabilities\n",
        "data_test['pred_logreg'] = logreg.predict(data_test_words_df)\n",
        "data_test['pred_logreg_proba'] = logreg.predict_proba(data_test_words_df)[:,1]\n",
        "\n",
        "# Random forest predictions + probabilities\n",
        "data_test['pred_forest'] = forest.predict(data_test_words_df)\n",
        "data_test['pred_forest_proba'] = forest.predict_proba(data_test_words_df)[:,1]\n",
        "\n",
        "# SVC predictions\n",
        "data_test['pred_svc'] = svc.predict(data_test_words_df)\n",
        "\n",
        "# Bayes predictions + probabilities\n",
        "data_test['pred_bayes'] = bayes.predict(data_test_words_df)\n",
        "data_test['pred_bayes_proba'] = bayes.predict_proba(data_test_words_df)[:,1]"
      ]
    },
    {
      "cell_type": "code",
      "execution_count": 59,
      "metadata": {
        "colab": {
          "base_uri": "https://localhost:8080/",
          "height": 300
        },
        "id": "wsxNpnK4EJed",
        "outputId": "f1d65485-6feb-4c86-8109-a0cdb48a566f"
      },
<<<<<<< HEAD:miscCode/humblebeginnings.ipynb
=======
      "execution_count": null,
>>>>>>> 0a5a2d8359d40f0b7fcabcc67febf4fdcc472ba8:mainDir/humblebeginnings.ipynb
      "outputs": [
        {
          "data": {
            "text/html": [
              "\n",
              "  <div id=\"df-2a828f2b-f4c1-4c27-8964-78e0c9f7a1cf\">\n",
              "    <div class=\"colab-df-container\">\n",
              "      <div>\n",
              "<style scoped>\n",
              "    .dataframe tbody tr th:only-of-type {\n",
              "        vertical-align: middle;\n",
              "    }\n",
              "\n",
              "    .dataframe tbody tr th {\n",
              "        vertical-align: top;\n",
              "    }\n",
              "\n",
              "    .dataframe thead th {\n",
              "        text-align: right;\n",
              "    }\n",
              "</style>\n",
              "<table border=\"1\" class=\"dataframe\">\n",
              "  <thead>\n",
              "    <tr style=\"text-align: right;\">\n",
              "      <th></th>\n",
              "      <th>text</th>\n",
              "      <th>inc</th>\n",
              "      <th>pred_logreg</th>\n",
              "      <th>pred_logreg_proba</th>\n",
              "      <th>pred_forest</th>\n",
              "      <th>pred_forest_proba</th>\n",
              "      <th>pred_svc</th>\n",
              "      <th>pred_bayes</th>\n",
              "      <th>pred_bayes_proba</th>\n",
              "    </tr>\n",
              "  </thead>\n",
              "  <tbody>\n",
              "    <tr>\n",
              "      <th>0</th>\n",
              "      <td>A white person would be well suited for this job.</td>\n",
              "      <td>0</td>\n",
              "      <td>1</td>\n",
              "      <td>9.956683e-01</td>\n",
              "      <td>0</td>\n",
              "      <td>0.40</td>\n",
              "      <td>1</td>\n",
              "      <td>1</td>\n",
              "      <td>0.550030</td>\n",
              "    </tr>\n",
              "    <tr>\n",
              "      <th>1</th>\n",
              "      <td>Anyone that is smart will do well.</td>\n",
              "      <td>1</td>\n",
              "      <td>1</td>\n",
              "      <td>5.123794e-01</td>\n",
              "      <td>1</td>\n",
              "      <td>0.60</td>\n",
              "      <td>1</td>\n",
              "      <td>0</td>\n",
              "      <td>0.438844</td>\n",
              "    </tr>\n",
              "    <tr>\n",
              "      <th>2</th>\n",
              "      <td>Asians do not speak English.</td>\n",
              "      <td>0</td>\n",
              "      <td>0</td>\n",
              "      <td>3.711442e-12</td>\n",
              "      <td>0</td>\n",
              "      <td>0.28</td>\n",
              "      <td>0</td>\n",
              "      <td>0</td>\n",
              "      <td>0.287532</td>\n",
              "    </tr>\n",
              "    <tr>\n",
              "      <th>3</th>\n",
              "      <td>Everyone has the potential to be a doctor.</td>\n",
              "      <td>1</td>\n",
              "      <td>1</td>\n",
              "      <td>9.999717e-01</td>\n",
              "      <td>1</td>\n",
              "      <td>0.58</td>\n",
              "      <td>1</td>\n",
              "      <td>1</td>\n",
              "      <td>0.533914</td>\n",
              "    </tr>\n",
              "    <tr>\n",
              "      <th>4</th>\n",
              "      <td>All people deserve equal opportunity.</td>\n",
              "      <td>1</td>\n",
              "      <td>1</td>\n",
              "      <td>9.853761e-01</td>\n",
              "      <td>0</td>\n",
              "      <td>0.36</td>\n",
              "      <td>1</td>\n",
              "      <td>1</td>\n",
              "      <td>0.516234</td>\n",
              "    </tr>\n",
              "    <tr>\n",
              "      <th>5</th>\n",
              "      <td>Africans Americans are criminals</td>\n",
              "      <td>0</td>\n",
              "      <td>0</td>\n",
              "      <td>1.369807e-14</td>\n",
              "      <td>0</td>\n",
              "      <td>0.18</td>\n",
              "      <td>0</td>\n",
              "      <td>0</td>\n",
              "      <td>0.225517</td>\n",
              "    </tr>\n",
              "    <tr>\n",
              "      <th>6</th>\n",
              "      <td>Immigrants should have less voting power.</td>\n",
              "      <td>0</td>\n",
              "      <td>0</td>\n",
              "      <td>7.596668e-07</td>\n",
              "      <td>0</td>\n",
              "      <td>0.36</td>\n",
              "      <td>0</td>\n",
              "      <td>0</td>\n",
              "      <td>0.383369</td>\n",
              "    </tr>\n",
              "    <tr>\n",
              "      <th>7</th>\n",
              "      <td>Do not judge a book by its cover.</td>\n",
              "      <td>1</td>\n",
              "      <td>0</td>\n",
              "      <td>8.909374e-11</td>\n",
              "      <td>0</td>\n",
              "      <td>0.32</td>\n",
              "      <td>0</td>\n",
              "      <td>0</td>\n",
              "      <td>0.331688</td>\n",
              "    </tr>\n",
              "  </tbody>\n",
              "</table>\n",
              "</div>\n",
              "      <button class=\"colab-df-convert\" onclick=\"convertToInteractive('df-2a828f2b-f4c1-4c27-8964-78e0c9f7a1cf')\"\n",
              "              title=\"Convert this dataframe to an interactive table.\"\n",
              "              style=\"display:none;\">\n",
              "        \n",
              "  <svg xmlns=\"http://www.w3.org/2000/svg\" height=\"24px\"viewBox=\"0 0 24 24\"\n",
              "       width=\"24px\">\n",
              "    <path d=\"M0 0h24v24H0V0z\" fill=\"none\"/>\n",
              "    <path d=\"M18.56 5.44l.94 2.06.94-2.06 2.06-.94-2.06-.94-.94-2.06-.94 2.06-2.06.94zm-11 1L8.5 8.5l.94-2.06 2.06-.94-2.06-.94L8.5 2.5l-.94 2.06-2.06.94zm10 10l.94 2.06.94-2.06 2.06-.94-2.06-.94-.94-2.06-.94 2.06-2.06.94z\"/><path d=\"M17.41 7.96l-1.37-1.37c-.4-.4-.92-.59-1.43-.59-.52 0-1.04.2-1.43.59L10.3 9.45l-7.72 7.72c-.78.78-.78 2.05 0 2.83L4 21.41c.39.39.9.59 1.41.59.51 0 1.02-.2 1.41-.59l7.78-7.78 2.81-2.81c.8-.78.8-2.07 0-2.86zM5.41 20L4 18.59l7.72-7.72 1.47 1.35L5.41 20z\"/>\n",
              "  </svg>\n",
              "      </button>\n",
              "      \n",
              "  <style>\n",
              "    .colab-df-container {\n",
              "      display:flex;\n",
              "      flex-wrap:wrap;\n",
              "      gap: 12px;\n",
              "    }\n",
              "\n",
              "    .colab-df-convert {\n",
              "      background-color: #E8F0FE;\n",
              "      border: none;\n",
              "      border-radius: 50%;\n",
              "      cursor: pointer;\n",
              "      display: none;\n",
              "      fill: #1967D2;\n",
              "      height: 32px;\n",
              "      padding: 0 0 0 0;\n",
              "      width: 32px;\n",
              "    }\n",
              "\n",
              "    .colab-df-convert:hover {\n",
              "      background-color: #E2EBFA;\n",
              "      box-shadow: 0px 1px 2px rgba(60, 64, 67, 0.3), 0px 1px 3px 1px rgba(60, 64, 67, 0.15);\n",
              "      fill: #174EA6;\n",
              "    }\n",
              "\n",
              "    [theme=dark] .colab-df-convert {\n",
              "      background-color: #3B4455;\n",
              "      fill: #D2E3FC;\n",
              "    }\n",
              "\n",
              "    [theme=dark] .colab-df-convert:hover {\n",
              "      background-color: #434B5C;\n",
              "      box-shadow: 0px 1px 3px 1px rgba(0, 0, 0, 0.15);\n",
              "      filter: drop-shadow(0px 1px 2px rgba(0, 0, 0, 0.3));\n",
              "      fill: #FFFFFF;\n",
              "    }\n",
              "  </style>\n",
              "\n",
              "      <script>\n",
              "        const buttonEl =\n",
              "          document.querySelector('#df-2a828f2b-f4c1-4c27-8964-78e0c9f7a1cf button.colab-df-convert');\n",
              "        buttonEl.style.display =\n",
              "          google.colab.kernel.accessAllowed ? 'block' : 'none';\n",
              "\n",
              "        async function convertToInteractive(key) {\n",
              "          const element = document.querySelector('#df-2a828f2b-f4c1-4c27-8964-78e0c9f7a1cf');\n",
              "          const dataTable =\n",
              "            await google.colab.kernel.invokeFunction('convertToInteractive',\n",
              "                                                     [key], {});\n",
              "          if (!dataTable) return;\n",
              "\n",
              "          const docLinkHtml = 'Like what you see? Visit the ' +\n",
              "            '<a target=\"_blank\" href=https://colab.research.google.com/notebooks/data_table.ipynb>data table notebook</a>'\n",
              "            + ' to learn more about interactive tables.';\n",
              "          element.innerHTML = '';\n",
              "          dataTable['output_type'] = 'display_data';\n",
              "          await google.colab.output.renderOutput(dataTable, element);\n",
              "          const docLink = document.createElement('div');\n",
              "          docLink.innerHTML = docLinkHtml;\n",
              "          element.appendChild(docLink);\n",
              "        }\n",
              "      </script>\n",
              "    </div>\n",
              "  </div>\n",
              "  "
            ],
            "text/plain": [
              "                                                text  inc pred_logreg  \\\n",
              "0  A white person would be well suited for this job.    0           1   \n",
              "1                 Anyone that is smart will do well.    1           1   \n",
              "2                       Asians do not speak English.    0           0   \n",
              "3         Everyone has the potential to be a doctor.    1           1   \n",
              "4              All people deserve equal opportunity.    1           1   \n",
              "5                   Africans Americans are criminals    0           0   \n",
              "6          Immigrants should have less voting power.    0           0   \n",
              "7                  Do not judge a book by its cover.    1           0   \n",
              "\n",
              "   pred_logreg_proba pred_forest  pred_forest_proba pred_svc pred_bayes  \\\n",
              "0       9.956683e-01           0               0.40        1          1   \n",
              "1       5.123794e-01           1               0.60        1          0   \n",
              "2       3.711442e-12           0               0.28        0          0   \n",
              "3       9.999717e-01           1               0.58        1          1   \n",
              "4       9.853761e-01           0               0.36        1          1   \n",
              "5       1.369807e-14           0               0.18        0          0   \n",
              "6       7.596668e-07           0               0.36        0          0   \n",
              "7       8.909374e-11           0               0.32        0          0   \n",
              "\n",
              "   pred_bayes_proba  \n",
              "0          0.550030  \n",
              "1          0.438844  \n",
              "2          0.287532  \n",
              "3          0.533914  \n",
              "4          0.516234  \n",
              "5          0.225517  \n",
              "6          0.383369  \n",
              "7          0.331688  "
            ]
          },
          "execution_count": 59,
          "metadata": {},
          "output_type": "execute_result"
        }
      ],
      "source": [
        "data_test"
      ]
    },
    {
      "cell_type": "markdown",
      "metadata": {
        "id": "opbMwdkaEbLC"
      },
      "source": [
        "### Time for a confusion matrix for each of the results!!  \n",
        "this is much easier to understand results this way."
      ]
    },
    {
      "cell_type": "code",
      "execution_count": 60,
      "metadata": {
        "id": "FhTTwBafEaYC"
      },
      "outputs": [],
      "source": [
        "from sklearn.metrics import confusion_matrix\n",
        "from sklearn.metrics import accuracy_score\n",
        "\n",
        "y_test = data_test[\"inc\"].astype(str)\n",
        "X_test = data_test_words_df"
<<<<<<< HEAD:miscCode/humblebeginnings.ipynb
      ]
    },
    {
      "cell_type": "code",
      "execution_count": 61,
=======
      ],
      "metadata": {
        "id": "FhTTwBafEaYC"
      },
      "execution_count": 67,
      "outputs": []
    },
    {
      "cell_type": "code",
      "source": [
        "y_pred_logreg = logreg.predict(X_test)\n",
        "matrix = confusion_matrix(y_test, y_pred_logreg)\n",
        "\n",
        "label_names = pd.Series(['negative', 'positive'])\n",
        "print(pd.DataFrame(matrix,\n",
        "     columns='Predicted ' + label_names,\n",
        "     index='Is ' + label_names))\n",
        "print(accuracy_score(y_test,y_pred_logreg))"
      ],
>>>>>>> 0a5a2d8359d40f0b7fcabcc67febf4fdcc472ba8:mainDir/humblebeginnings.ipynb
      "metadata": {
        "colab": {
          "base_uri": "https://localhost:8080/"
        },
        "id": "D9-yy4wHErtY",
        "outputId": "36644133-8a7a-4e4e-c4f2-801ac2f191f0"
      },
<<<<<<< HEAD:miscCode/humblebeginnings.ipynb
      "outputs": [
        {
          "data": {
            "text/html": [
              "\n",
              "  <div id=\"df-4c530270-c645-4c6c-bd98-836907ac7639\">\n",
              "    <div class=\"colab-df-container\">\n",
              "      <div>\n",
              "<style scoped>\n",
              "    .dataframe tbody tr th:only-of-type {\n",
              "        vertical-align: middle;\n",
              "    }\n",
              "\n",
              "    .dataframe tbody tr th {\n",
              "        vertical-align: top;\n",
              "    }\n",
              "\n",
              "    .dataframe thead th {\n",
              "        text-align: right;\n",
              "    }\n",
              "</style>\n",
              "<table border=\"1\" class=\"dataframe\">\n",
              "  <thead>\n",
              "    <tr style=\"text-align: right;\">\n",
              "      <th></th>\n",
              "      <th>Predicted negative</th>\n",
              "      <th>Predicted positive</th>\n",
              "    </tr>\n",
              "  </thead>\n",
              "  <tbody>\n",
              "    <tr>\n",
              "      <th>Is negative</th>\n",
              "      <td>3</td>\n",
              "      <td>1</td>\n",
              "    </tr>\n",
              "    <tr>\n",
              "      <th>Is positive</th>\n",
              "      <td>1</td>\n",
              "      <td>3</td>\n",
              "    </tr>\n",
              "  </tbody>\n",
              "</table>\n",
              "</div>\n",
              "      <button class=\"colab-df-convert\" onclick=\"convertToInteractive('df-4c530270-c645-4c6c-bd98-836907ac7639')\"\n",
              "              title=\"Convert this dataframe to an interactive table.\"\n",
              "              style=\"display:none;\">\n",
              "        \n",
              "  <svg xmlns=\"http://www.w3.org/2000/svg\" height=\"24px\"viewBox=\"0 0 24 24\"\n",
              "       width=\"24px\">\n",
              "    <path d=\"M0 0h24v24H0V0z\" fill=\"none\"/>\n",
              "    <path d=\"M18.56 5.44l.94 2.06.94-2.06 2.06-.94-2.06-.94-.94-2.06-.94 2.06-2.06.94zm-11 1L8.5 8.5l.94-2.06 2.06-.94-2.06-.94L8.5 2.5l-.94 2.06-2.06.94zm10 10l.94 2.06.94-2.06 2.06-.94-2.06-.94-.94-2.06-.94 2.06-2.06.94z\"/><path d=\"M17.41 7.96l-1.37-1.37c-.4-.4-.92-.59-1.43-.59-.52 0-1.04.2-1.43.59L10.3 9.45l-7.72 7.72c-.78.78-.78 2.05 0 2.83L4 21.41c.39.39.9.59 1.41.59.51 0 1.02-.2 1.41-.59l7.78-7.78 2.81-2.81c.8-.78.8-2.07 0-2.86zM5.41 20L4 18.59l7.72-7.72 1.47 1.35L5.41 20z\"/>\n",
              "  </svg>\n",
              "      </button>\n",
              "      \n",
              "  <style>\n",
              "    .colab-df-container {\n",
              "      display:flex;\n",
              "      flex-wrap:wrap;\n",
              "      gap: 12px;\n",
              "    }\n",
              "\n",
              "    .colab-df-convert {\n",
              "      background-color: #E8F0FE;\n",
              "      border: none;\n",
              "      border-radius: 50%;\n",
              "      cursor: pointer;\n",
              "      display: none;\n",
              "      fill: #1967D2;\n",
              "      height: 32px;\n",
              "      padding: 0 0 0 0;\n",
              "      width: 32px;\n",
              "    }\n",
              "\n",
              "    .colab-df-convert:hover {\n",
              "      background-color: #E2EBFA;\n",
              "      box-shadow: 0px 1px 2px rgba(60, 64, 67, 0.3), 0px 1px 3px 1px rgba(60, 64, 67, 0.15);\n",
              "      fill: #174EA6;\n",
              "    }\n",
              "\n",
              "    [theme=dark] .colab-df-convert {\n",
              "      background-color: #3B4455;\n",
              "      fill: #D2E3FC;\n",
              "    }\n",
              "\n",
              "    [theme=dark] .colab-df-convert:hover {\n",
              "      background-color: #434B5C;\n",
              "      box-shadow: 0px 1px 3px 1px rgba(0, 0, 0, 0.15);\n",
              "      filter: drop-shadow(0px 1px 2px rgba(0, 0, 0, 0.3));\n",
              "      fill: #FFFFFF;\n",
              "    }\n",
              "  </style>\n",
              "\n",
              "      <script>\n",
              "        const buttonEl =\n",
              "          document.querySelector('#df-4c530270-c645-4c6c-bd98-836907ac7639 button.colab-df-convert');\n",
              "        buttonEl.style.display =\n",
              "          google.colab.kernel.accessAllowed ? 'block' : 'none';\n",
              "\n",
              "        async function convertToInteractive(key) {\n",
              "          const element = document.querySelector('#df-4c530270-c645-4c6c-bd98-836907ac7639');\n",
              "          const dataTable =\n",
              "            await google.colab.kernel.invokeFunction('convertToInteractive',\n",
              "                                                     [key], {});\n",
              "          if (!dataTable) return;\n",
              "\n",
              "          const docLinkHtml = 'Like what you see? Visit the ' +\n",
              "            '<a target=\"_blank\" href=https://colab.research.google.com/notebooks/data_table.ipynb>data table notebook</a>'\n",
              "            + ' to learn more about interactive tables.';\n",
              "          element.innerHTML = '';\n",
              "          dataTable['output_type'] = 'display_data';\n",
              "          await google.colab.output.renderOutput(dataTable, element);\n",
              "          const docLink = document.createElement('div');\n",
              "          docLink.innerHTML = docLinkHtml;\n",
              "          element.appendChild(docLink);\n",
              "        }\n",
              "      </script>\n",
              "    </div>\n",
              "  </div>\n",
              "  "
            ],
            "text/plain": [
              "             Predicted negative  Predicted positive\n",
              "Is negative                   3                   1\n",
              "Is positive                   1                   3"
            ]
          },
          "execution_count": 61,
          "metadata": {},
          "output_type": "execute_result"
=======
      "execution_count": 69,
      "outputs": [
        {
          "output_type": "stream",
          "name": "stdout",
          "text": [
            "             Predicted negative  Predicted positive\n",
            "Is negative                   3                   1\n",
            "Is positive                   1                   3\n",
            "0.75\n"
          ]
>>>>>>> 0a5a2d8359d40f0b7fcabcc67febf4fdcc472ba8:mainDir/humblebeginnings.ipynb
        }
      ],
      "source": [
        "y_pred_logreg = logreg.predict(X_test)\n",
        "matrix = confusion_matrix(y_test, y_pred_logreg)\n",
        "\n",
        "label_names = pd.Series(['negative', 'positive'])\n",
        "print(pd.DataFrame(matrix,\n",
        "     columns='Predicted ' + label_names,\n",
<<<<<<< HEAD:miscCode/humblebeginnings.ipynb
        "     index='Is ' + label_names)"
      ]
    },
    {
      "cell_type": "code",
      "execution_count": 62,
=======
        "     index='Is ' + label_names))\n",
        "print(accuracy_score(y_test,y_pred_forest))"
      ],
>>>>>>> 0a5a2d8359d40f0b7fcabcc67febf4fdcc472ba8:mainDir/humblebeginnings.ipynb
      "metadata": {
        "colab": {
          "base_uri": "https://localhost:8080/"
        },
        "id": "oWJ_V2cTFBVH",
        "outputId": "a6a07abb-05f8-4e46-f24f-fc6085f31336"
      },
<<<<<<< HEAD:miscCode/humblebeginnings.ipynb
      "outputs": [
        {
          "data": {
            "text/html": [
              "\n",
              "  <div id=\"df-9017d33a-6ee3-4629-bd9a-19b2c6276fd6\">\n",
              "    <div class=\"colab-df-container\">\n",
              "      <div>\n",
              "<style scoped>\n",
              "    .dataframe tbody tr th:only-of-type {\n",
              "        vertical-align: middle;\n",
              "    }\n",
              "\n",
              "    .dataframe tbody tr th {\n",
              "        vertical-align: top;\n",
              "    }\n",
              "\n",
              "    .dataframe thead th {\n",
              "        text-align: right;\n",
              "    }\n",
              "</style>\n",
              "<table border=\"1\" class=\"dataframe\">\n",
              "  <thead>\n",
              "    <tr style=\"text-align: right;\">\n",
              "      <th></th>\n",
              "      <th>Predicted negative</th>\n",
              "      <th>Predicted positive</th>\n",
              "    </tr>\n",
              "  </thead>\n",
              "  <tbody>\n",
              "    <tr>\n",
              "      <th>Is negative</th>\n",
              "      <td>4</td>\n",
              "      <td>0</td>\n",
              "    </tr>\n",
              "    <tr>\n",
              "      <th>Is positive</th>\n",
              "      <td>2</td>\n",
              "      <td>2</td>\n",
              "    </tr>\n",
              "  </tbody>\n",
              "</table>\n",
              "</div>\n",
              "      <button class=\"colab-df-convert\" onclick=\"convertToInteractive('df-9017d33a-6ee3-4629-bd9a-19b2c6276fd6')\"\n",
              "              title=\"Convert this dataframe to an interactive table.\"\n",
              "              style=\"display:none;\">\n",
              "        \n",
              "  <svg xmlns=\"http://www.w3.org/2000/svg\" height=\"24px\"viewBox=\"0 0 24 24\"\n",
              "       width=\"24px\">\n",
              "    <path d=\"M0 0h24v24H0V0z\" fill=\"none\"/>\n",
              "    <path d=\"M18.56 5.44l.94 2.06.94-2.06 2.06-.94-2.06-.94-.94-2.06-.94 2.06-2.06.94zm-11 1L8.5 8.5l.94-2.06 2.06-.94-2.06-.94L8.5 2.5l-.94 2.06-2.06.94zm10 10l.94 2.06.94-2.06 2.06-.94-2.06-.94-.94-2.06-.94 2.06-2.06.94z\"/><path d=\"M17.41 7.96l-1.37-1.37c-.4-.4-.92-.59-1.43-.59-.52 0-1.04.2-1.43.59L10.3 9.45l-7.72 7.72c-.78.78-.78 2.05 0 2.83L4 21.41c.39.39.9.59 1.41.59.51 0 1.02-.2 1.41-.59l7.78-7.78 2.81-2.81c.8-.78.8-2.07 0-2.86zM5.41 20L4 18.59l7.72-7.72 1.47 1.35L5.41 20z\"/>\n",
              "  </svg>\n",
              "      </button>\n",
              "      \n",
              "  <style>\n",
              "    .colab-df-container {\n",
              "      display:flex;\n",
              "      flex-wrap:wrap;\n",
              "      gap: 12px;\n",
              "    }\n",
              "\n",
              "    .colab-df-convert {\n",
              "      background-color: #E8F0FE;\n",
              "      border: none;\n",
              "      border-radius: 50%;\n",
              "      cursor: pointer;\n",
              "      display: none;\n",
              "      fill: #1967D2;\n",
              "      height: 32px;\n",
              "      padding: 0 0 0 0;\n",
              "      width: 32px;\n",
              "    }\n",
              "\n",
              "    .colab-df-convert:hover {\n",
              "      background-color: #E2EBFA;\n",
              "      box-shadow: 0px 1px 2px rgba(60, 64, 67, 0.3), 0px 1px 3px 1px rgba(60, 64, 67, 0.15);\n",
              "      fill: #174EA6;\n",
              "    }\n",
              "\n",
              "    [theme=dark] .colab-df-convert {\n",
              "      background-color: #3B4455;\n",
              "      fill: #D2E3FC;\n",
              "    }\n",
              "\n",
              "    [theme=dark] .colab-df-convert:hover {\n",
              "      background-color: #434B5C;\n",
              "      box-shadow: 0px 1px 3px 1px rgba(0, 0, 0, 0.15);\n",
              "      filter: drop-shadow(0px 1px 2px rgba(0, 0, 0, 0.3));\n",
              "      fill: #FFFFFF;\n",
              "    }\n",
              "  </style>\n",
              "\n",
              "      <script>\n",
              "        const buttonEl =\n",
              "          document.querySelector('#df-9017d33a-6ee3-4629-bd9a-19b2c6276fd6 button.colab-df-convert');\n",
              "        buttonEl.style.display =\n",
              "          google.colab.kernel.accessAllowed ? 'block' : 'none';\n",
              "\n",
              "        async function convertToInteractive(key) {\n",
              "          const element = document.querySelector('#df-9017d33a-6ee3-4629-bd9a-19b2c6276fd6');\n",
              "          const dataTable =\n",
              "            await google.colab.kernel.invokeFunction('convertToInteractive',\n",
              "                                                     [key], {});\n",
              "          if (!dataTable) return;\n",
              "\n",
              "          const docLinkHtml = 'Like what you see? Visit the ' +\n",
              "            '<a target=\"_blank\" href=https://colab.research.google.com/notebooks/data_table.ipynb>data table notebook</a>'\n",
              "            + ' to learn more about interactive tables.';\n",
              "          element.innerHTML = '';\n",
              "          dataTable['output_type'] = 'display_data';\n",
              "          await google.colab.output.renderOutput(dataTable, element);\n",
              "          const docLink = document.createElement('div');\n",
              "          docLink.innerHTML = docLinkHtml;\n",
              "          element.appendChild(docLink);\n",
              "        }\n",
              "      </script>\n",
              "    </div>\n",
              "  </div>\n",
              "  "
            ],
            "text/plain": [
              "             Predicted negative  Predicted positive\n",
              "Is negative                   4                   0\n",
              "Is positive                   2                   2"
            ]
          },
          "execution_count": 62,
          "metadata": {},
          "output_type": "execute_result"
=======
      "execution_count": 70,
      "outputs": [
        {
          "output_type": "stream",
          "name": "stdout",
          "text": [
            "             Predicted negative  Predicted positive\n",
            "Is negative                   4                   0\n",
            "Is positive                   2                   2\n",
            "0.75\n"
          ]
>>>>>>> 0a5a2d8359d40f0b7fcabcc67febf4fdcc472ba8:mainDir/humblebeginnings.ipynb
        }
      ],
      "source": [
        "y_pred_forest = forest.predict(data_test_words_df)\n",
        "matrix = confusion_matrix(y_test, y_pred_forest)\n",
        "\n",
        "label_names = pd.Series(['negative', 'positive'])\n",
        "print(pd.DataFrame(matrix,\n",
        "     columns='Predicted ' + label_names,\n",
<<<<<<< HEAD:miscCode/humblebeginnings.ipynb
        "     index='Is ' + label_names)"
      ]
    },
    {
      "cell_type": "code",
      "execution_count": 63,
=======
        "     index='Is ' + label_names))\n",
        "print(accuracy_score(y_test,y_pred_svc))"
      ],
>>>>>>> 0a5a2d8359d40f0b7fcabcc67febf4fdcc472ba8:mainDir/humblebeginnings.ipynb
      "metadata": {
        "colab": {
          "base_uri": "https://localhost:8080/"
        },
        "id": "1NZo4o7NG5ma",
        "outputId": "d9b8121d-5e0e-4b0d-dd98-9c19c42c7bf8"
      },
<<<<<<< HEAD:miscCode/humblebeginnings.ipynb
      "outputs": [
        {
          "data": {
            "text/html": [
              "\n",
              "  <div id=\"df-399c19b7-a58d-4d17-b0bc-2b686fcdf54e\">\n",
              "    <div class=\"colab-df-container\">\n",
              "      <div>\n",
              "<style scoped>\n",
              "    .dataframe tbody tr th:only-of-type {\n",
              "        vertical-align: middle;\n",
              "    }\n",
              "\n",
              "    .dataframe tbody tr th {\n",
              "        vertical-align: top;\n",
              "    }\n",
              "\n",
              "    .dataframe thead th {\n",
              "        text-align: right;\n",
              "    }\n",
              "</style>\n",
              "<table border=\"1\" class=\"dataframe\">\n",
              "  <thead>\n",
              "    <tr style=\"text-align: right;\">\n",
              "      <th></th>\n",
              "      <th>Predicted negative</th>\n",
              "      <th>Predicted positive</th>\n",
              "    </tr>\n",
              "  </thead>\n",
              "  <tbody>\n",
              "    <tr>\n",
              "      <th>Is negative</th>\n",
              "      <td>3</td>\n",
              "      <td>1</td>\n",
              "    </tr>\n",
              "    <tr>\n",
              "      <th>Is positive</th>\n",
              "      <td>1</td>\n",
              "      <td>3</td>\n",
              "    </tr>\n",
              "  </tbody>\n",
              "</table>\n",
              "</div>\n",
              "      <button class=\"colab-df-convert\" onclick=\"convertToInteractive('df-399c19b7-a58d-4d17-b0bc-2b686fcdf54e')\"\n",
              "              title=\"Convert this dataframe to an interactive table.\"\n",
              "              style=\"display:none;\">\n",
              "        \n",
              "  <svg xmlns=\"http://www.w3.org/2000/svg\" height=\"24px\"viewBox=\"0 0 24 24\"\n",
              "       width=\"24px\">\n",
              "    <path d=\"M0 0h24v24H0V0z\" fill=\"none\"/>\n",
              "    <path d=\"M18.56 5.44l.94 2.06.94-2.06 2.06-.94-2.06-.94-.94-2.06-.94 2.06-2.06.94zm-11 1L8.5 8.5l.94-2.06 2.06-.94-2.06-.94L8.5 2.5l-.94 2.06-2.06.94zm10 10l.94 2.06.94-2.06 2.06-.94-2.06-.94-.94-2.06-.94 2.06-2.06.94z\"/><path d=\"M17.41 7.96l-1.37-1.37c-.4-.4-.92-.59-1.43-.59-.52 0-1.04.2-1.43.59L10.3 9.45l-7.72 7.72c-.78.78-.78 2.05 0 2.83L4 21.41c.39.39.9.59 1.41.59.51 0 1.02-.2 1.41-.59l7.78-7.78 2.81-2.81c.8-.78.8-2.07 0-2.86zM5.41 20L4 18.59l7.72-7.72 1.47 1.35L5.41 20z\"/>\n",
              "  </svg>\n",
              "      </button>\n",
              "      \n",
              "  <style>\n",
              "    .colab-df-container {\n",
              "      display:flex;\n",
              "      flex-wrap:wrap;\n",
              "      gap: 12px;\n",
              "    }\n",
              "\n",
              "    .colab-df-convert {\n",
              "      background-color: #E8F0FE;\n",
              "      border: none;\n",
              "      border-radius: 50%;\n",
              "      cursor: pointer;\n",
              "      display: none;\n",
              "      fill: #1967D2;\n",
              "      height: 32px;\n",
              "      padding: 0 0 0 0;\n",
              "      width: 32px;\n",
              "    }\n",
              "\n",
              "    .colab-df-convert:hover {\n",
              "      background-color: #E2EBFA;\n",
              "      box-shadow: 0px 1px 2px rgba(60, 64, 67, 0.3), 0px 1px 3px 1px rgba(60, 64, 67, 0.15);\n",
              "      fill: #174EA6;\n",
              "    }\n",
              "\n",
              "    [theme=dark] .colab-df-convert {\n",
              "      background-color: #3B4455;\n",
              "      fill: #D2E3FC;\n",
              "    }\n",
              "\n",
              "    [theme=dark] .colab-df-convert:hover {\n",
              "      background-color: #434B5C;\n",
              "      box-shadow: 0px 1px 3px 1px rgba(0, 0, 0, 0.15);\n",
              "      filter: drop-shadow(0px 1px 2px rgba(0, 0, 0, 0.3));\n",
              "      fill: #FFFFFF;\n",
              "    }\n",
              "  </style>\n",
              "\n",
              "      <script>\n",
              "        const buttonEl =\n",
              "          document.querySelector('#df-399c19b7-a58d-4d17-b0bc-2b686fcdf54e button.colab-df-convert');\n",
              "        buttonEl.style.display =\n",
              "          google.colab.kernel.accessAllowed ? 'block' : 'none';\n",
              "\n",
              "        async function convertToInteractive(key) {\n",
              "          const element = document.querySelector('#df-399c19b7-a58d-4d17-b0bc-2b686fcdf54e');\n",
              "          const dataTable =\n",
              "            await google.colab.kernel.invokeFunction('convertToInteractive',\n",
              "                                                     [key], {});\n",
              "          if (!dataTable) return;\n",
              "\n",
              "          const docLinkHtml = 'Like what you see? Visit the ' +\n",
              "            '<a target=\"_blank\" href=https://colab.research.google.com/notebooks/data_table.ipynb>data table notebook</a>'\n",
              "            + ' to learn more about interactive tables.';\n",
              "          element.innerHTML = '';\n",
              "          dataTable['output_type'] = 'display_data';\n",
              "          await google.colab.output.renderOutput(dataTable, element);\n",
              "          const docLink = document.createElement('div');\n",
              "          docLink.innerHTML = docLinkHtml;\n",
              "          element.appendChild(docLink);\n",
              "        }\n",
              "      </script>\n",
              "    </div>\n",
              "  </div>\n",
              "  "
            ],
            "text/plain": [
              "             Predicted negative  Predicted positive\n",
              "Is negative                   3                   1\n",
              "Is positive                   1                   3"
            ]
          },
          "execution_count": 63,
          "metadata": {},
          "output_type": "execute_result"
=======
      "execution_count": 71,
      "outputs": [
        {
          "output_type": "stream",
          "name": "stdout",
          "text": [
            "             Predicted negative  Predicted positive\n",
            "Is negative                   3                   1\n",
            "Is positive                   1                   3\n",
            "0.75\n"
          ]
>>>>>>> 0a5a2d8359d40f0b7fcabcc67febf4fdcc472ba8:mainDir/humblebeginnings.ipynb
        }
      ],
      "source": [
        "y_pred_svc = svc.predict(data_test_words_df)\n",
        "matrix = confusion_matrix(y_test, y_pred_svc)\n",
        "\n",
        "label_names = pd.Series(['negative', 'positive'])\n",
        "print(pd.DataFrame(matrix,\n",
        "     columns='Predicted ' + label_names,\n",
<<<<<<< HEAD:miscCode/humblebeginnings.ipynb
        "     index='Is ' + label_names)"
      ]
    },
    {
      "cell_type": "code",
      "execution_count": 64,
=======
        "     index='Is ' + label_names))\n",
        "print(accuracy_score(y_test,y_pred_bayes))"
      ],
>>>>>>> 0a5a2d8359d40f0b7fcabcc67febf4fdcc472ba8:mainDir/humblebeginnings.ipynb
      "metadata": {
        "colab": {
          "base_uri": "https://localhost:8080/"
        },
        "id": "1M2FlOZ0G6pB",
        "outputId": "741fbb7c-c0bb-4bd8-b886-0ee17021d835"
      },
<<<<<<< HEAD:miscCode/humblebeginnings.ipynb
      "outputs": [
        {
          "data": {
            "text/html": [
              "\n",
              "  <div id=\"df-e156687f-65f7-4e3d-b545-61aed17f327b\">\n",
              "    <div class=\"colab-df-container\">\n",
              "      <div>\n",
              "<style scoped>\n",
              "    .dataframe tbody tr th:only-of-type {\n",
              "        vertical-align: middle;\n",
              "    }\n",
              "\n",
              "    .dataframe tbody tr th {\n",
              "        vertical-align: top;\n",
              "    }\n",
              "\n",
              "    .dataframe thead th {\n",
              "        text-align: right;\n",
              "    }\n",
              "</style>\n",
              "<table border=\"1\" class=\"dataframe\">\n",
              "  <thead>\n",
              "    <tr style=\"text-align: right;\">\n",
              "      <th></th>\n",
              "      <th>Predicted negative</th>\n",
              "      <th>Predicted positive</th>\n",
              "    </tr>\n",
              "  </thead>\n",
              "  <tbody>\n",
              "    <tr>\n",
              "      <th>Is negative</th>\n",
              "      <td>3</td>\n",
              "      <td>1</td>\n",
              "    </tr>\n",
              "    <tr>\n",
              "      <th>Is positive</th>\n",
              "      <td>2</td>\n",
              "      <td>2</td>\n",
              "    </tr>\n",
              "  </tbody>\n",
              "</table>\n",
              "</div>\n",
              "      <button class=\"colab-df-convert\" onclick=\"convertToInteractive('df-e156687f-65f7-4e3d-b545-61aed17f327b')\"\n",
              "              title=\"Convert this dataframe to an interactive table.\"\n",
              "              style=\"display:none;\">\n",
              "        \n",
              "  <svg xmlns=\"http://www.w3.org/2000/svg\" height=\"24px\"viewBox=\"0 0 24 24\"\n",
              "       width=\"24px\">\n",
              "    <path d=\"M0 0h24v24H0V0z\" fill=\"none\"/>\n",
              "    <path d=\"M18.56 5.44l.94 2.06.94-2.06 2.06-.94-2.06-.94-.94-2.06-.94 2.06-2.06.94zm-11 1L8.5 8.5l.94-2.06 2.06-.94-2.06-.94L8.5 2.5l-.94 2.06-2.06.94zm10 10l.94 2.06.94-2.06 2.06-.94-2.06-.94-.94-2.06-.94 2.06-2.06.94z\"/><path d=\"M17.41 7.96l-1.37-1.37c-.4-.4-.92-.59-1.43-.59-.52 0-1.04.2-1.43.59L10.3 9.45l-7.72 7.72c-.78.78-.78 2.05 0 2.83L4 21.41c.39.39.9.59 1.41.59.51 0 1.02-.2 1.41-.59l7.78-7.78 2.81-2.81c.8-.78.8-2.07 0-2.86zM5.41 20L4 18.59l7.72-7.72 1.47 1.35L5.41 20z\"/>\n",
              "  </svg>\n",
              "      </button>\n",
              "      \n",
              "  <style>\n",
              "    .colab-df-container {\n",
              "      display:flex;\n",
              "      flex-wrap:wrap;\n",
              "      gap: 12px;\n",
              "    }\n",
              "\n",
              "    .colab-df-convert {\n",
              "      background-color: #E8F0FE;\n",
              "      border: none;\n",
              "      border-radius: 50%;\n",
              "      cursor: pointer;\n",
              "      display: none;\n",
              "      fill: #1967D2;\n",
              "      height: 32px;\n",
              "      padding: 0 0 0 0;\n",
              "      width: 32px;\n",
              "    }\n",
              "\n",
              "    .colab-df-convert:hover {\n",
              "      background-color: #E2EBFA;\n",
              "      box-shadow: 0px 1px 2px rgba(60, 64, 67, 0.3), 0px 1px 3px 1px rgba(60, 64, 67, 0.15);\n",
              "      fill: #174EA6;\n",
              "    }\n",
              "\n",
              "    [theme=dark] .colab-df-convert {\n",
              "      background-color: #3B4455;\n",
              "      fill: #D2E3FC;\n",
              "    }\n",
              "\n",
              "    [theme=dark] .colab-df-convert:hover {\n",
              "      background-color: #434B5C;\n",
              "      box-shadow: 0px 1px 3px 1px rgba(0, 0, 0, 0.15);\n",
              "      filter: drop-shadow(0px 1px 2px rgba(0, 0, 0, 0.3));\n",
              "      fill: #FFFFFF;\n",
              "    }\n",
              "  </style>\n",
              "\n",
              "      <script>\n",
              "        const buttonEl =\n",
              "          document.querySelector('#df-e156687f-65f7-4e3d-b545-61aed17f327b button.colab-df-convert');\n",
              "        buttonEl.style.display =\n",
              "          google.colab.kernel.accessAllowed ? 'block' : 'none';\n",
              "\n",
              "        async function convertToInteractive(key) {\n",
              "          const element = document.querySelector('#df-e156687f-65f7-4e3d-b545-61aed17f327b');\n",
              "          const dataTable =\n",
              "            await google.colab.kernel.invokeFunction('convertToInteractive',\n",
              "                                                     [key], {});\n",
              "          if (!dataTable) return;\n",
              "\n",
              "          const docLinkHtml = 'Like what you see? Visit the ' +\n",
              "            '<a target=\"_blank\" href=https://colab.research.google.com/notebooks/data_table.ipynb>data table notebook</a>'\n",
              "            + ' to learn more about interactive tables.';\n",
              "          element.innerHTML = '';\n",
              "          dataTable['output_type'] = 'display_data';\n",
              "          await google.colab.output.renderOutput(dataTable, element);\n",
              "          const docLink = document.createElement('div');\n",
              "          docLink.innerHTML = docLinkHtml;\n",
              "          element.appendChild(docLink);\n",
              "        }\n",
              "      </script>\n",
              "    </div>\n",
              "  </div>\n",
              "  "
            ],
            "text/plain": [
              "             Predicted negative  Predicted positive\n",
              "Is negative                   3                   1\n",
              "Is positive                   2                   2"
            ]
          },
          "execution_count": 64,
          "metadata": {},
          "output_type": "execute_result"
=======
      "execution_count": 72,
      "outputs": [
        {
          "output_type": "stream",
          "name": "stdout",
          "text": [
            "             Predicted negative  Predicted positive\n",
            "Is negative                   3                   1\n",
            "Is positive                   2                   2\n",
            "0.625\n"
          ]
>>>>>>> 0a5a2d8359d40f0b7fcabcc67febf4fdcc472ba8:mainDir/humblebeginnings.ipynb
        }
      ],
      "source": [
        "y_pred_bayes = bayes.predict(data_test_words_df)\n",
        "matrix = confusion_matrix(y_test, y_pred_bayes)\n",
        "\n",
        "label_names = pd.Series(['negative', 'positive'])\n",
        "pd.DataFrame(matrix,\n",
        "     columns='Predicted ' + label_names,\n",
        "     index='Is ' + label_names)"
      ]
    }
  ],
  "metadata": {
    "colab": {
      "provenance": []
    },
    "kernelspec": {
      "display_name": "Python 3",
      "language": "python",
      "name": "python3"
    },
    "language_info": {
      "codemirror_mode": {
        "name": "ipython",
        "version": 3
      },
      "file_extension": ".py",
      "mimetype": "text/x-python",
      "name": "python",
      "nbconvert_exporter": "python",
      "pygments_lexer": "ipython3",
      "version": "3.8.10 (default, Nov 14 2022, 12:59:47) \n[GCC 9.4.0]"
    },
    "orig_nbformat": 4,
    "vscode": {
      "interpreter": {
        "hash": "916dbcbb3f70747c44a77c7bcd40155683ae19c65e1c03b4aa3499c5328201f1"
      }
    }
  },
  "nbformat": 4,
  "nbformat_minor": 0
}
