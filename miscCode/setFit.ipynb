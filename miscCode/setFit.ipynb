{
 "cells": [
  {
   "cell_type": "code",
   "execution_count": 2,
   "metadata": {},
   "outputs": [
    {
     "name": "stdout",
     "output_type": "stream",
     "text": [
      "(54, 2)\n",
      "                                                text inc\n",
      "0  African immigrants are only able to seek unqua...   0\n",
      "1         Roma/Romani people live in extreme poverty   0\n",
      "2  The Commissioner welcomed a group of Asian vis...   0\n",
      "3  Roma/Romani people had a meeting with the Comm...   0\n",
      "4    I met a group of African American people today.   0\n"
     ]
    }
   ],
   "source": [
    "import pandas as pd\n",
    "import numpy as np\n",
    "\n",
    "data_file=\"Inclusive_Exclusive race sentences - Sheet1.csv\"\n",
    "\n",
    "exclusive_column = \"Exclusive\"\n",
    "inclusive_column = \"Inclusive\"\n",
    "\n",
    "data = pd.read_csv(data_file)\n",
    "data_exc = pd.DataFrame(data[exclusive_column])\n",
    "data_inc = pd.DataFrame(data[inclusive_column])\n",
    "\n",
    "data_exc_labeled = data_exc\n",
    "data_exc_labeled['inc'] = '0'\n",
    "data_exc_labeled.rename(columns={exclusive_column:'text'}, inplace = True)\n",
    "\n",
    "data_inc_labeled = data_inc\n",
    "data_inc_labeled['inc'] = '1'\n",
    "data_inc_labeled.rename(columns={inclusive_column:'text'}, inplace = True)\n",
    "\n",
    "data_both = pd.concat([data_exc_labeled, data_inc_labeled])\n",
    "\n",
    "print(data_both.shape)\n",
    "print(data_both.head())"
   ]
  },
  {
   "cell_type": "code",
   "execution_count": null,
   "metadata": {},
   "outputs": [],
   "source": []
  }
 ],
 "metadata": {
  "kernelspec": {
   "display_name": "Python 3.8.10 64-bit",
   "language": "python",
   "name": "python3"
  },
  "language_info": {
   "codemirror_mode": {
    "name": "ipython",
    "version": 3
   },
   "file_extension": ".py",
   "mimetype": "text/x-python",
   "name": "python",
   "nbconvert_exporter": "python",
   "pygments_lexer": "ipython3",
   "version": "3.8.10"
  },
  "orig_nbformat": 4,
  "vscode": {
   "interpreter": {
    "hash": "916dbcbb3f70747c44a77c7bcd40155683ae19c65e1c03b4aa3499c5328201f1"
   }
  }
 },
 "nbformat": 4,
 "nbformat_minor": 2
}
