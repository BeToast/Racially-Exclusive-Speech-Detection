{
 "cells": [
  {
   "cell_type": "code",
   "execution_count": 2,
   "metadata": {},
   "outputs": [
    {
     "name": "stdout",
     "output_type": "stream",
     "text": [
      "Requirement already satisfied: transformers in /home/blake/venvs/fyp/lib/python3.8/site-packages (4.26.0)\n",
      "Requirement already satisfied: filelock in /home/blake/venvs/fyp/lib/python3.8/site-packages (from transformers) (3.9.0)\n",
      "Requirement already satisfied: tqdm>=4.27 in /home/blake/venvs/fyp/lib/python3.8/site-packages (from transformers) (4.64.1)\n",
      "Requirement already satisfied: huggingface-hub<1.0,>=0.11.0 in /home/blake/venvs/fyp/lib/python3.8/site-packages (from transformers) (0.12.0)\n",
      "Requirement already satisfied: tokenizers!=0.11.3,<0.14,>=0.11.1 in /home/blake/venvs/fyp/lib/python3.8/site-packages (from transformers) (0.13.2)\n",
      "Requirement already satisfied: pyyaml>=5.1 in /home/blake/venvs/fyp/lib/python3.8/site-packages (from transformers) (6.0)\n",
      "Requirement already satisfied: numpy>=1.17 in /home/blake/venvs/fyp/lib/python3.8/site-packages (from transformers) (1.24.1)\n",
      "Requirement already satisfied: packaging>=20.0 in /home/blake/venvs/fyp/lib/python3.8/site-packages (from transformers) (23.0)\n",
      "Requirement already satisfied: requests in /home/blake/venvs/fyp/lib/python3.8/site-packages (from transformers) (2.28.2)\n",
      "Requirement already satisfied: regex!=2019.12.17 in /home/blake/venvs/fyp/lib/python3.8/site-packages (from transformers) (2022.10.31)\n",
      "Requirement already satisfied: typing-extensions>=3.7.4.3 in /home/blake/venvs/fyp/lib/python3.8/site-packages (from huggingface-hub<1.0,>=0.11.0->transformers) (4.4.0)\n",
      "Requirement already satisfied: charset-normalizer<4,>=2 in /home/blake/venvs/fyp/lib/python3.8/site-packages (from requests->transformers) (3.0.1)\n",
      "Requirement already satisfied: certifi>=2017.4.17 in /home/blake/venvs/fyp/lib/python3.8/site-packages (from requests->transformers) (2022.12.7)\n",
      "Requirement already satisfied: urllib3<1.27,>=1.21.1 in /home/blake/venvs/fyp/lib/python3.8/site-packages (from requests->transformers) (1.26.14)\n",
      "Requirement already satisfied: idna<4,>=2.5 in /home/blake/venvs/fyp/lib/python3.8/site-packages (from requests->transformers) (3.4)\n",
      "Note: you may need to restart the kernel to use updated packages.\n",
      "^C\n",
      "Traceback (most recent call last):\n",
      "  File \"/usr/lib/python3.8/runpy.py\", line 194, in _run_module_as_main\n",
      "    return _run_code(code, main_globals, None,\n",
      "  File \"/usr/lib/python3.8/runpy.py\", line 87, in _run_code\n",
      "    exec(code, run_globals)\n",
      "  File \"/home/blake/venvs/fyp/lib/python3.8/site-packages/pip/__main__.py\", line 16, in <module>\n",
      "    from pip._internal.cli.main import main as _main  # isort:skip # noqa\n",
      "  File \"/home/blake/venvs/fyp/lib/python3.8/site-packages/pip/_internal/cli/main.py\", line 10, in <module>\n",
      "    from pip._internal.cli.autocompletion import autocomplete\n",
      "  File \"/home/blake/venvs/fyp/lib/python3.8/site-packages/pip/_internal/cli/autocompletion.py\", line 9, in <module>\n",
      "    from pip._internal.cli.main_parser import create_main_parser\n",
      "  File \"/home/blake/venvs/fyp/lib/python3.8/site-packages/pip/_internal/cli/main_parser.py\", line 7, in <module>\n",
      "    from pip._internal.cli import cmdoptions\n",
      "  File \"/home/blake/venvs/fyp/lib/python3.8/site-packages/pip/_internal/cli/cmdoptions.py\", line 24, in <module>\n",
      "    from pip._internal.exceptions import CommandError\n",
      "  File \"/home/blake/venvs/fyp/lib/python3.8/site-packages/pip/_internal/exceptions.py\", line 10, in <module>\n",
      "    from pip._vendor.six import iteritems\n",
      "  File \"/home/blake/venvs/fyp/lib/python3.8/site-packages/pip/_vendor/__init__.py\", line 79, in <module>\n",
      "    vendored(\"pkg_resources\")\n",
      "  File \"/home/blake/venvs/fyp/lib/python3.8/site-packages/pip/_vendor/__init__.py\", line 36, in vendored\n",
      "    __import__(modulename, globals(), locals(), level=0)\n",
      "  File \"<frozen importlib._bootstrap>\", line 991, in _find_and_load\n",
      "  File \"<frozen importlib._bootstrap>\", line 975, in _find_and_load_unlocked\n",
      "  File \"<frozen importlib._bootstrap>\", line 655, in _load_unlocked\n",
      "  File \"<frozen importlib._bootstrap>\", line 618, in _load_backward_compatible\n",
      "  File \"<frozen zipimport>\", line 259, in load_module\n",
      "  File \"/usr/share/python-wheels/pkg_resources-0.0.0-py2.py3-none-any.whl/pkg_resources/__init__.py\", line 84, in <module>\n",
      "  File \"<frozen importlib._bootstrap>\", line 991, in _find_and_load\n",
      "  File \"<frozen importlib._bootstrap>\", line 975, in _find_and_load_unlocked\n",
      "  File \"<frozen importlib._bootstrap>\", line 655, in _load_unlocked\n",
      "  File \"<frozen importlib._bootstrap>\", line 618, in _load_backward_compatible\n",
      "  File \"<frozen zipimport>\", line 259, in load_module\n",
      "  File \"/usr/share/python-wheels/pkg_resources-0.0.0-py2.py3-none-any.whl/pkg_resources/_vendor/packaging/requirements.py\", line 9, in <module>\n",
      "  File \"<frozen importlib._bootstrap>\", line 991, in _find_and_load\n",
      "  File \"<frozen importlib._bootstrap>\", line 975, in _find_and_load_unlocked\n",
      "  File \"<frozen importlib._bootstrap>\", line 655, in _load_unlocked\n",
      "  File \"<frozen importlib._bootstrap>\", line 618, in _load_backward_compatible\n",
      "  File \"/usr/share/python-wheels/pkg_resources-0.0.0-py2.py3-none-any.whl/pkg_resources/extern/__init__.py\", line 43, in load_module\n",
      "  File \"<frozen importlib._bootstrap>\", line 991, in _find_and_load\n",
      "  File \"<frozen importlib._bootstrap>\", line 975, in _find_and_load_unlocked\n",
      "  File \"<frozen importlib._bootstrap>\", line 655, in _load_unlocked\n",
      "  File \"<frozen importlib._bootstrap>\", line 618, in _load_backward_compatible\n",
      "  File \"<frozen zipimport>\", line 241, in load_module\n",
      "  File \"<frozen zipimport>\", line 713, in _get_module_code\n",
      "  File \"<frozen zipimport>\", line 647, in _compile_source\n",
      "KeyboardInterrupt\n",
      "Note: you may need to restart the kernel to use updated packages.\n",
      "Requirement already satisfied: pyarrow in /home/blake/venvs/fyp/lib/python3.8/site-packages (11.0.0)\n",
      "Requirement already satisfied: numpy>=1.16.6 in /home/blake/venvs/fyp/lib/python3.8/site-packages (from pyarrow) (1.24.1)\n",
      "Note: you may need to restart the kernel to use updated packages.\n"
     ]
    }
   ],
   "source": [
    "%pip install transformers\n",
    "%pip install setfit\n",
    "%pip install pyarrow"
   ]
  },
  {
   "cell_type": "code",
   "execution_count": 9,
   "metadata": {},
   "outputs": [],
   "source": [
    "def train_few_shot_model(pretrainied_model_string, train_path, test_path, num_epoch, num_iteration):\n",
    "  from setfit import SetFitModel, SetFitTrainer\n",
    "  import pandas as pd\n",
    "  import pyarrow as pa\n",
    "  import datasets\n",
    "\n",
    "  train_dataframe = pd.read_csv(train_path).sample(frac=1)\n",
    "  test_dataframe = pd.read_csv(test_path).sample(frac=1)\n",
    "\n",
    "  train_dataset = datasets.Dataset(pa.Table.from_pandas(train_dataframe))\n",
    "  test_dataset = datasets.Dataset(pa.Table.from_pandas(test_dataframe))\n",
    "\n",
    "  model = SetFitModel.from_pretrained(pretrainied_model_string)\n",
    "\n",
    "  trainer = SetFitTrainer(\n",
    "    model=model,\n",
    "    train_dataset=train_dataset,\n",
    "    metric=\"accuracy\",\n",
    "    batch_size=16,\n",
    "    num_iterations=num_iteration, # The number of text pairs to generate for contrastive learning\n",
    "    num_epochs=num_epoch, # The number of epochs to use for contrastive learning\n",
    "    column_mapping={\"text\": \"text\", \"class\": \"label\"} # Map dataset columns to text/label expected by trainer\n",
    "  )\n",
    "\n",
    "  trainer.train()\n",
    "\n",
    "  # output filename\n",
    "  modelnamesplit = pretrainied_model_string.split('/')\n",
    "  modelname = modelnamesplit[len(modelnamesplit)-1]\n",
    "  trainnamesplit = train_path.split('/')\n",
    "  trainname = trainnamesplit[len(trainnamesplit)-1]\n",
    "  output_filename = modelname+\"__\"+trainname+\"__\"+str(num_epoch)+\"epochs\"\n",
    "  \n",
    "  test_dataframe['predicted'] = trainer.model.predict(test_dataframe['text'])\n",
    "  test_dataframe.to_csv(output_filename, index=False)\n"
   ]
  },
  {
   "cell_type": "code",
   "execution_count": 10,
   "metadata": {},
   "outputs": [
    {
     "name": "stderr",
     "output_type": "stream",
     "text": [
      "No sentence-transformers model found with name /home/blake/.cache/torch/sentence_transformers/prajjwal1_bert-tiny-mnli. Creating a new one with MEAN pooling.\n",
      "Some weights of the model checkpoint at /home/blake/.cache/torch/sentence_transformers/prajjwal1_bert-tiny-mnli were not used when initializing BertModel: ['classifier.bias', 'classifier.weight']\n",
      "- This IS expected if you are initializing BertModel from the checkpoint of a model trained on another task or with another architecture (e.g. initializing a BertForSequenceClassification model from a BertForPreTraining model).\n",
      "- This IS NOT expected if you are initializing BertModel from the checkpoint of a model that you expect to be exactly identical (initializing a BertForSequenceClassification model from a BertForSequenceClassification model).\n",
      "model_head.pkl not found on HuggingFace Hub, initialising classification head with random weights. You should TRAIN this model on a downstream task to use it for predictions and inference.\n",
      "Applying column mapping to training dataset\n",
      "***** Running training *****\n",
      "  Num examples = 16\n",
      "  Num epochs = 1\n",
      "  Total optimization steps = 1\n",
      "  Total train batch size = 16\n",
      "Iteration: 100%|██████████| 1/1 [00:00<00:00,  6.20it/s]\n",
      "Epoch: 100%|██████████| 1/1 [00:00<00:00,  5.75it/s]\n"
     ]
    },
    {
     "data": {
      "text/plain": [
       "'\\nmodel names:\\n  facebook/bart-large-mnli\\n  morit/french_xlm_xnli\\n\\n'"
      ]
     },
     "execution_count": 10,
     "metadata": {},
     "output_type": "execute_result"
    }
   ],
   "source": [
    "epochs = 1\n",
    "modelnames = [\n",
    "  \"facebook/bart-large-mnli\",\n",
    "  \"morit/french_xlm_xnli\"\n",
    "]\n",
    "# cheeky for testing\n",
    "modelnames = [\"prajjwal1/bert-tiny-mnli\"]\n",
    "\n",
    "for modelname in modelnames:\n",
    "  train_few_shot_model(\n",
    "    \"\",\n",
    "    \"../data_ready/few_shot/train_pairs_random_4.csv\",\n",
    "    \"../data_ready/unused_pairs_for_test_data.csv\",\n",
    "    epochs,\n",
    "    20 #8x20x2 = 320\n",
    "  )"
   ]
  }
 ],
 "metadata": {
  "kernelspec": {
   "display_name": "tf",
   "language": "python",
   "name": "python3"
  },
  "language_info": {
   "codemirror_mode": {
    "name": "ipython",
    "version": 3
   },
   "file_extension": ".py",
   "mimetype": "text/x-python",
   "name": "python",
   "nbconvert_exporter": "python",
   "pygments_lexer": "ipython3",
   "version": "3.8.16"
  },
  "orig_nbformat": 4,
  "vscode": {
   "interpreter": {
    "hash": "a20bf4446eb962a62a523ed10fefb4852bfc518dc6434bbccd861f07f3b19b23"
   }
  }
 },
 "nbformat": 4,
 "nbformat_minor": 2
}
