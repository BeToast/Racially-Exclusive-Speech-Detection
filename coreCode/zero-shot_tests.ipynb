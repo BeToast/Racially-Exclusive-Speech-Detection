{
 "cells": [
  {
   "cell_type": "code",
   "execution_count": 1,
   "metadata": {},
   "outputs": [
    {
     "name": "stderr",
     "output_type": "stream",
     "text": [
      "2023-01-28 12:32:15.956909: I tensorflow/core/platform/cpu_feature_guard.cc:193] This TensorFlow binary is optimized with oneAPI Deep Neural Network Library (oneDNN) to use the following CPU instructions in performance-critical operations:  AVX2 FMA\n",
      "To enable them in other operations, rebuild TensorFlow with the appropriate compiler flags.\n",
      "2023-01-28 12:32:18.064363: W tensorflow/compiler/xla/stream_executor/platform/default/dso_loader.cc:64] Could not load dynamic library 'libnvinfer.so.7'; dlerror: libnvinfer.so.7: cannot open shared object file: No such file or directory; LD_LIBRARY_PATH: /usr/local/cuda-11.5/lib64:/usr/local/cuda-11.5/lib64\n",
      "2023-01-28 12:32:18.064511: W tensorflow/compiler/xla/stream_executor/platform/default/dso_loader.cc:64] Could not load dynamic library 'libnvinfer_plugin.so.7'; dlerror: libnvinfer_plugin.so.7: cannot open shared object file: No such file or directory; LD_LIBRARY_PATH: /usr/local/cuda-11.5/lib64:/usr/local/cuda-11.5/lib64\n",
      "2023-01-28 12:32:18.064522: W tensorflow/compiler/tf2tensorrt/utils/py_utils.cc:38] TF-TRT Warning: Cannot dlopen some TensorRT libraries. If you would like to use Nvidia GPU with TensorRT, please make sure the missing libraries mentioned above are installed properly.\n"
     ]
    }
   ],
   "source": [
    "import os\n",
    "import pandas as pd\n",
    "import transformers"
   ]
  },
  {
   "attachments": {},
   "cell_type": "markdown",
   "metadata": {},
   "source": [
    "#### helper function below"
   ]
  },
  {
   "cell_type": "code",
   "execution_count": 2,
   "metadata": {},
   "outputs": [],
   "source": [
    "def zeroshot(model_name, csv_name, ten_tests):\n",
    "  train_path = \"../data_ready/zero_shot.csv\"\n",
    "  print(f\"zero_shot data exist? : {os.path.exists(train_path)}\")\n",
    "\n",
    "  data=pd.read_csv(train_path).sample(frac=1)#.reset_index() #shuffle dataframe\n",
    "\n",
    "  data_text, data_lables = data['text'], data['class']\n",
    "  possible_data_labels = ['exclusive','inclusive']\n",
    "\n",
    "  classifier = transformers.pipeline(\"zero-shot-classification\", model=model_name)\n",
    "  if ten_tests:\n",
    "    data_text = data_text[:10]\n",
    "  zero_shot_results = classifier(list(data_text), possible_data_labels)\n",
    "\n",
    "  text = list()\n",
    "  inclusive_score = list()\n",
    "  exclusive_score = list()\n",
    "\n",
    "  for result in zero_shot_results:\n",
    "    text.append(result.get(\"sequence\"))\n",
    "    inclusive_score.append(result.get('scores')[0])\n",
    "    exclusive_score.append(result.get('scores')[1])\n",
    "\n",
    "  results_formatted = pd.DataFrame()\n",
    "  results_formatted['text'] = text\n",
    "  results_formatted['inclusive'] = inclusive_score\n",
    "  results_formatted['exclusive'] = exclusive_score\n",
    "\n",
    "  if not ten_tests:\n",
    "    results_formatted.to_csv(\"../results/\"+csv_name+\".csv\", index=False)\n",
    "  else:\n",
    "    print(results_formatted)"
   ]
  },
  {
   "attachments": {},
   "cell_type": "markdown",
   "metadata": {},
   "source": [
    "### Run all zeroshot classifiers"
   ]
  },
  {
   "cell_type": "code",
   "execution_count": 6,
   "metadata": {},
   "outputs": [
    {
     "name": "stdout",
     "output_type": "stream",
     "text": [
      "zero_shot data exist? : True\n"
     ]
    },
    {
     "name": "stderr",
     "output_type": "stream",
     "text": [
      "/tmp/ipykernel_19730/1287410347.py:12: FutureWarning: The behavior of `series[i:j]` with an integer-dtype index is deprecated. In a future version, this will be treated as *label-based* indexing, consistent with e.g. `series[i]` lookups. To retain the old behavior, use `series.iloc[i:j]`. To get the future behavior, use `series.loc[i:j]`.\n",
      "  data_text = data_text[:10]\n",
      "Asking to truncate to max_length but no maximum length is provided and the model has no predefined maximum length. Default to no truncation.\n"
     ]
    }
   ],
   "source": [
    "# zeroshot(\"facebook/bart-large-mnli\", \"bart-large-mnli\")\n",
    "zeroshot(\"morit/french_xlm_xnli\",\"french_xlm_xnli\", True)\n",
    "# zeroshot(\"mohsenfayyaz/electra-base-discriminator-offenseval2019-downsample\",\"electra-base-discriminator\", True)"
   ]
  }
 ],
 "metadata": {
  "kernelspec": {
   "display_name": "fyp",
   "language": "python",
   "name": "python3"
  },
  "language_info": {
   "codemirror_mode": {
    "name": "ipython",
    "version": 3
   },
   "file_extension": ".py",
   "mimetype": "text/x-python",
   "name": "python",
   "nbconvert_exporter": "python",
   "pygments_lexer": "ipython3",
   "version": "3.10.6 (main, Nov 14 2022, 16:10:14) [GCC 11.3.0]"
  },
  "orig_nbformat": 4,
  "vscode": {
   "interpreter": {
    "hash": "9a087ff6df60b7b11c8f40c254358573ffeaae9884c78b2d4011057590ac9004"
   }
  }
 },
 "nbformat": 4,
 "nbformat_minor": 2
}
