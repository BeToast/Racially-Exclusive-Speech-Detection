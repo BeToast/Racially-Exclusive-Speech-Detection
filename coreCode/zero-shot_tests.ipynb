{
 "cells": [
  {
   "cell_type": "code",
   "execution_count": 1,
   "metadata": {},
   "outputs": [
    {
     "name": "stderr",
     "output_type": "stream",
     "text": [
      "/home/blake/venvs/fyp/lib/python3.8/site-packages/tqdm/auto.py:22: TqdmWarning: IProgress not found. Please update jupyter and ipywidgets. See https://ipywidgets.readthedocs.io/en/stable/user_install.html\n",
      "  from .autonotebook import tqdm as notebook_tqdm\n",
      "2023-01-26 17:35:13.268844: I tensorflow/core/platform/cpu_feature_guard.cc:193] This TensorFlow binary is optimized with oneAPI Deep Neural Network Library (oneDNN) to use the following CPU instructions in performance-critical operations:  AVX2 FMA\n",
      "To enable them in other operations, rebuild TensorFlow with the appropriate compiler flags.\n",
      "2023-01-26 17:35:13.636352: W tensorflow/compiler/xla/stream_executor/platform/default/dso_loader.cc:64] Could not load dynamic library 'libcudart.so.11.0'; dlerror: libcudart.so.11.0: cannot open shared object file: No such file or directory\n",
      "2023-01-26 17:35:13.636378: I tensorflow/compiler/xla/stream_executor/cuda/cudart_stub.cc:29] Ignore above cudart dlerror if you do not have a GPU set up on your machine.\n",
      "2023-01-26 17:35:15.377262: W tensorflow/compiler/xla/stream_executor/platform/default/dso_loader.cc:64] Could not load dynamic library 'libnvinfer.so.7'; dlerror: libnvinfer.so.7: cannot open shared object file: No such file or directory\n",
      "2023-01-26 17:35:15.377648: W tensorflow/compiler/xla/stream_executor/platform/default/dso_loader.cc:64] Could not load dynamic library 'libnvinfer_plugin.so.7'; dlerror: libnvinfer_plugin.so.7: cannot open shared object file: No such file or directory\n",
      "2023-01-26 17:35:15.377675: W tensorflow/compiler/tf2tensorrt/utils/py_utils.cc:38] TF-TRT Warning: Cannot dlopen some TensorRT libraries. If you would like to use Nvidia GPU with TensorRT, please make sure the missing libraries mentioned above are installed properly.\n"
     ]
    }
   ],
   "source": [
    "import os\n",
    "import pandas as pd\n",
    "import transformers"
   ]
  },
  {
   "attachments": {},
   "cell_type": "markdown",
   "metadata": {},
   "source": [
    "#### helper function below"
   ]
  },
  {
   "cell_type": "code",
   "execution_count": 2,
   "metadata": {},
   "outputs": [],
   "source": [
    "def zeroshot(model_name, csv_name, ten_tests):\n",
    "  train_path = \"../data_ready/zero_shot.csv\"\n",
    "  print(f\"zero_shot data exist? : {os.path.exists(train_path)}\")\n",
    "\n",
    "  data=pd.read_csv(train_path).sample(frac=1)#.reset_index() #shuffle dataframe\n",
    "\n",
    "  data_text, data_lables = data['text'], data['class']\n",
    "  possible_data_labels = ['exclusive','inclusive']\n",
    "\n",
    "  classifier = transformers.pipeline(\"zero-shot-classification\", model=model_name)\n",
    "  if ten_tests:\n",
    "    data_text = data_text[:10]\n",
    "  zero_shot_results = classifier(list(data_text), possible_data_labels)\n",
    "\n",
    "  text = list()\n",
    "  inclusive_score = list()\n",
    "  exclusive_score = list()\n",
    "\n",
    "  for result in zero_shot_results:\n",
    "    text.append(result.get(\"sequence\"))\n",
    "    inclusive_score.append(result.get('scores')[0])\n",
    "    exclusive_score.append(result.get('scores')[1])\n",
    "\n",
    "  results_formatted = pd.DataFrame()\n",
    "  results_formatted['text'] = text\n",
    "  results_formatted['inclusive'] = inclusive_score\n",
    "  results_formatted['exclusive'] = exclusive_score\n",
    "\n",
    "  if not ten_tests:\n",
    "    results_formatted.to_csv(\"../results/\"+csv_name+\".csv\", index=False)"
   ]
  },
  {
   "attachments": {},
   "cell_type": "markdown",
   "metadata": {},
   "source": [
    "### Run all zeroshot classifiers"
   ]
  },
  {
   "cell_type": "code",
   "execution_count": 3,
   "metadata": {},
   "outputs": [
    {
     "name": "stdout",
     "output_type": "stream",
     "text": [
      "zero_shot data exist? : True\n"
     ]
    },
    {
     "name": "stderr",
     "output_type": "stream",
     "text": [
      "Downloading (…)lve/main/config.json: 100%|██████████| 1.15k/1.15k [00:00<00:00, 156kB/s]\n",
      "Downloading (…)\"pytorch_model.bin\";: 100%|██████████| 1.63G/1.63G [02:21<00:00, 11.5MB/s]\n"
     ]
    },
    {
     "ename": "",
     "evalue": "",
     "output_type": "error",
     "traceback": [
      "\u001b[1;31mThe Kernel crashed while executing code in the the current cell or a previous cell. Please review the code in the cell(s) to identify a possible cause of the failure. Click <a href='https://aka.ms/vscodeJupyterKernelCrash'>here</a> for more info. View Jupyter <a href='command:jupyter.viewOutput'>log</a> for further details."
     ]
    },
    {
     "ename": "",
     "evalue": "",
     "output_type": "error",
     "traceback": [
      "\u001b[1;31mCanceled future for execute_request message before replies were done"
     ]
    }
   ],
   "source": [
    "zeroshot(\"facebook/bart-large-mnli\", \"bart-large-mnli\", True)\n",
    "# zeroshot(\"morit/french_xlm_xnli\",\"french_xlm_xnli\", False)\n",
    "# zeroshot(\"mohsenfayyaz/electra-base-discriminator-offenseval2019-downsample\",\"electra-base-discriminator\", False)"
   ]
  }
 ],
 "metadata": {
  "kernelspec": {
   "display_name": "fyp",
   "language": "python",
   "name": "python3"
  },
  "language_info": {
   "codemirror_mode": {
    "name": "ipython",
    "version": 3
   },
   "file_extension": ".py",
   "mimetype": "text/x-python",
   "name": "python",
   "nbconvert_exporter": "python",
   "pygments_lexer": "ipython3",
   "version": "3.8.10 (default, Nov 14 2022, 12:59:47) \n[GCC 9.4.0]"
  },
  "orig_nbformat": 4,
  "vscode": {
   "interpreter": {
    "hash": "9a087ff6df60b7b11c8f40c254358573ffeaae9884c78b2d4011057590ac9004"
   }
  }
 },
 "nbformat": 4,
 "nbformat_minor": 2
}
