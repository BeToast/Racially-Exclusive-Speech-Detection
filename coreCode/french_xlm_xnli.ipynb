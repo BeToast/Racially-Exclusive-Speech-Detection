{
 "cells": [
  {
   "cell_type": "code",
   "execution_count": 1,
   "metadata": {},
   "outputs": [],
   "source": [
    "import os\n",
    "import pandas as pd"
   ]
  },
  {
   "cell_type": "code",
   "execution_count": 2,
   "metadata": {},
   "outputs": [
    {
     "name": "stdout",
     "output_type": "stream",
     "text": [
      "zero_shot data exist? : True\n",
      "42                       Italians are loud and romantic.\n",
      "278    Les cultures autochtones ont beaucoup d'histoi...\n",
      "117           Les Asiatiques sont timides et silencieux.\n",
      "324    La culture singapourienne est un creuset de di...\n",
      "331    Le désert du Sahara n'est pas seulement un dés...\n",
      "Name: text, dtype: object\n"
     ]
    }
   ],
   "source": [
    "train_path = \"../data_ready/zero_shot.csv\"\n",
    "print(f\"zero_shot data exist? : {os.path.exists(train_path)}\")\n",
    "\n",
    "data=pd.read_csv(train_path).sample(frac=1)#.reset_index() #shuffle dataframe\n",
    "\n",
    "data_text, data_lables = data['text'], data['class']\n",
    "possible_data_labels = ['exclusive','inclusive']\n",
    "\n",
    "print(data_text.head())"
   ]
  },
  {
   "cell_type": "code",
   "execution_count": 3,
   "metadata": {},
   "outputs": [
    {
     "name": "stderr",
     "output_type": "stream",
     "text": [
      "/home/blake/venvs/fyp/lib/python3.8/site-packages/tqdm/auto.py:22: TqdmWarning: IProgress not found. Please update jupyter and ipywidgets. See https://ipywidgets.readthedocs.io/en/stable/user_install.html\n",
      "  from .autonotebook import tqdm as notebook_tqdm\n",
      "2023-01-26 15:59:17.484922: I tensorflow/core/platform/cpu_feature_guard.cc:193] This TensorFlow binary is optimized with oneAPI Deep Neural Network Library (oneDNN) to use the following CPU instructions in performance-critical operations:  AVX2 FMA\n",
      "To enable them in other operations, rebuild TensorFlow with the appropriate compiler flags.\n",
      "2023-01-26 15:59:17.920947: W tensorflow/compiler/xla/stream_executor/platform/default/dso_loader.cc:64] Could not load dynamic library 'libcudart.so.11.0'; dlerror: libcudart.so.11.0: cannot open shared object file: No such file or directory\n",
      "2023-01-26 15:59:17.920973: I tensorflow/compiler/xla/stream_executor/cuda/cudart_stub.cc:29] Ignore above cudart dlerror if you do not have a GPU set up on your machine.\n",
      "2023-01-26 15:59:19.893776: W tensorflow/compiler/xla/stream_executor/platform/default/dso_loader.cc:64] Could not load dynamic library 'libnvinfer.so.7'; dlerror: libnvinfer.so.7: cannot open shared object file: No such file or directory\n",
      "2023-01-26 15:59:19.893998: W tensorflow/compiler/xla/stream_executor/platform/default/dso_loader.cc:64] Could not load dynamic library 'libnvinfer_plugin.so.7'; dlerror: libnvinfer_plugin.so.7: cannot open shared object file: No such file or directory\n",
      "2023-01-26 15:59:19.894014: W tensorflow/compiler/tf2tensorrt/utils/py_utils.cc:38] TF-TRT Warning: Cannot dlopen some TensorRT libraries. If you would like to use Nvidia GPU with TensorRT, please make sure the missing libraries mentioned above are installed properly.\n",
      "Downloading (…)\"pytorch_model.bin\";: 100%|██████████| 1.11G/1.11G [01:38<00:00, 11.3MB/s]\n",
      "Downloading (…)okenizer_config.json: 100%|██████████| 524/524 [00:00<00:00, 104kB/s]\n",
      "Downloading (…)\"tokenizer.json\";: 100%|██████████| 17.1M/17.1M [00:01<00:00, 9.79MB/s]\n",
      "Downloading (…)cial_tokens_map.json: 100%|██████████| 280/280 [00:00<00:00, 42.3kB/s]\n",
      "Asking to truncate to max_length but no maximum length is provided and the model has no predefined maximum length. Default to no truncation.\n"
     ]
    }
   ],
   "source": [
    "import transformers\n",
    "# import tensorrt\n",
    "classifier = transformers.pipeline(\"zero-shot-classification\", model=\"morit/french_xlm_xnli\")\n",
    "zero_shot_results = classifier(list(data_text), possible_data_labels)"
   ]
  },
  {
   "cell_type": "code",
   "execution_count": 5,
   "metadata": {},
   "outputs": [],
   "source": [
    "zero_shot_results\n",
    "\n",
    "text = list()\n",
    "inclusive_score = list()\n",
    "exclusive_score = list()\n",
    "\n",
    "for result in zero_shot_results:\n",
    "  text.append(result.get(\"sequence\"))\n",
    "  inclusive_score.append(result.get('scores')[0])\n",
    "  exclusive_score.append(result.get('scores')[1])\n",
    "\n",
    "results_formatted = pd.DataFrame()\n",
    "results_formatted['text'] = text\n",
    "results_formatted['inclusive'] = inclusive_score\n",
    "results_formatted['exclusive'] = exclusive_score\n",
    "\n",
    "results_formatted.to_csv(\"../results/french_xlm_xnli.csv\", index=False)"
   ]
  }
 ],
 "metadata": {
  "kernelspec": {
   "display_name": "fyp",
   "language": "python",
   "name": "python3"
  },
  "language_info": {
   "codemirror_mode": {
    "name": "ipython",
    "version": 3
   },
   "file_extension": ".py",
   "mimetype": "text/x-python",
   "name": "python",
   "nbconvert_exporter": "python",
   "pygments_lexer": "ipython3",
   "version": "3.8.10 (default, Nov 14 2022, 12:59:47) \n[GCC 9.4.0]"
  },
  "orig_nbformat": 4,
  "vscode": {
   "interpreter": {
    "hash": "9a087ff6df60b7b11c8f40c254358573ffeaae9884c78b2d4011057590ac9004"
   }
  }
 },
 "nbformat": 4,
 "nbformat_minor": 2
}
