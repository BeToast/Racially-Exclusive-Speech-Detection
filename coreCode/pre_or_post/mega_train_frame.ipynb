{
 "cells": [
  {
   "cell_type": "code",
   "execution_count": 22,
   "metadata": {},
   "outputs": [],
   "source": [
    "import os\n",
    "import pandas as pd"
   ]
  },
  {
   "cell_type": "code",
   "execution_count": 33,
   "metadata": {},
   "outputs": [],
   "source": [
    "def merge_few_shot_train(results_dir_few_shot, output_filename):\n",
    "  results_file_list = os.listdir(results_dir_few_shot)\n",
    "  results_dataframe_list = []\n",
    "  for filepath in results_file_list:\n",
    "    if filepath != output_filename+\".csv\":\n",
    "      results_dataframe_list.append(pd.read_csv(results_dir_few_shot+\"/\"+filepath).sample(frac=1))\n",
    "\n",
    "  mega_frame = pd.concat(results_dataframe_list)\n",
    "\n",
    "  mega_frame.to_csv(results_dir_few_shot+\"/\"+output_filename+\".csv\", index=False)"
   ]
  },
  {
   "cell_type": "code",
   "execution_count": 34,
   "metadata": {},
   "outputs": [
    {
     "name": "stdout",
     "output_type": "stream",
     "text": [
      "(16, 2)\n",
      "(8, 2)\n",
      "(16, 2)\n",
      "(8, 2)\n"
     ]
    }
   ],
   "source": [
    "merge_few_shot_train(\"../../data_ready/few_shot\", \"mega_frame\")"
   ]
  }
 ],
 "metadata": {
  "kernelspec": {
   "display_name": "Python 3",
   "language": "python",
   "name": "python3"
  },
  "language_info": {
   "codemirror_mode": {
    "name": "ipython",
    "version": 3
   },
   "file_extension": ".py",
   "mimetype": "text/x-python",
   "name": "python",
   "nbconvert_exporter": "python",
   "pygments_lexer": "ipython3",
   "version": "3.8.10"
  },
  "orig_nbformat": 4,
  "vscode": {
   "interpreter": {
    "hash": "916dbcbb3f70747c44a77c7bcd40155683ae19c65e1c03b4aa3499c5328201f1"
   }
  }
 },
 "nbformat": 4,
 "nbformat_minor": 2
}
