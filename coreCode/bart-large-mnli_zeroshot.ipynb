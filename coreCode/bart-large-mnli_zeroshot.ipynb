{
 "cells": [
  {
   "cell_type": "code",
   "execution_count": 1,
   "metadata": {},
   "outputs": [],
   "source": [
    "import os\n",
    "import pandas as pd"
   ]
  },
  {
   "cell_type": "code",
   "execution_count": 2,
   "metadata": {},
   "outputs": [
    {
     "name": "stdout",
     "output_type": "stream",
     "text": [
      "zero_shot data exist? : True\n",
      "91                     Les Blancs ont la même ethnicité.\n",
      "85     Les Afro-Américains sont toujours assistés soc...\n",
      "248    Africa is a continent of great wealth and natu...\n",
      "70     Japanese culture is only about technology, neg...\n",
      "125        Les Espagnols sont passionnés mais paresseux.\n",
      "Name: text, dtype: object\n"
     ]
    }
   ],
   "source": [
    "train_path = \"../data_ready/zero_shot.csv\"\n",
    "print(f\"zero_shot data exist? : {os.path.exists(train_path)}\")\n",
    "\n",
    "data=pd.read_csv(train_path).sample(frac=1)#.reset_index() #shuffle dataframe\n",
    "\n",
    "data_text, data_lables = data['text'], data['class']\n",
    "possible_data_labels = ['exclusive','inclusive']\n",
    "\n",
    "print(data_text.head())"
   ]
  },
  {
   "cell_type": "code",
   "execution_count": 3,
   "metadata": {},
   "outputs": [
    {
     "name": "stderr",
     "output_type": "stream",
     "text": [
      "/home/blake/miniconda3/envs/tf/lib/python3.8/site-packages/tqdm/auto.py:22: TqdmWarning: IProgress not found. Please update jupyter and ipywidgets. See https://ipywidgets.readthedocs.io/en/stable/user_install.html\n",
      "  from .autonotebook import tqdm as notebook_tqdm\n",
      "2023-01-26 11:42:01.710458: I tensorflow/core/platform/cpu_feature_guard.cc:193] This TensorFlow binary is optimized with oneAPI Deep Neural Network Library (oneDNN) to use the following CPU instructions in performance-critical operations:  AVX2 FMA\n",
      "To enable them in other operations, rebuild TensorFlow with the appropriate compiler flags.\n",
      "2023-01-26 11:42:03.889674: W tensorflow/compiler/xla/stream_executor/platform/default/dso_loader.cc:64] Could not load dynamic library 'libnvinfer.so.7'; dlerror: libnvinfer.so.7: cannot open shared object file: No such file or directory; LD_LIBRARY_PATH: /usr/local/cuda-11.5/lib64:/usr/local/cuda-11.5/lib64\n",
      "2023-01-26 11:42:03.889767: W tensorflow/compiler/xla/stream_executor/platform/default/dso_loader.cc:64] Could not load dynamic library 'libnvinfer_plugin.so.7'; dlerror: libnvinfer_plugin.so.7: cannot open shared object file: No such file or directory; LD_LIBRARY_PATH: /usr/local/cuda-11.5/lib64:/usr/local/cuda-11.5/lib64\n",
      "2023-01-26 11:42:03.889776: W tensorflow/compiler/tf2tensorrt/utils/py_utils.cc:38] TF-TRT Warning: Cannot dlopen some TensorRT libraries. If you would like to use Nvidia GPU with TensorRT, please make sure the missing libraries mentioned above are installed properly.\n"
     ]
    }
   ],
   "source": [
    "import transformers\n",
    "import tensorrt\n",
    "classifier = transformers.pipeline(\"zero-shot-classification\", model=\"facebook/bart-large-mnli\")\n",
    "zero_shot_results = classifier(list(data_text), possible_data_labels)"
   ]
  },
  {
   "cell_type": "code",
   "execution_count": 22,
   "metadata": {},
   "outputs": [],
   "source": [
    "zero_shot_results\n",
    "\n",
    "text = list()\n",
    "inclusive_score = list()\n",
    "exclusive_score = list()\n",
    "\n",
    "for result in zero_shot_results:\n",
    "  text.append(result.get(\"sequence\"))\n",
    "  inclusive_score.append(result.get('scores')[0])\n",
    "  exclusive_score.append(result.get('scores')[1])\n",
    "\n",
    "results_formatted = pd.DataFrame()\n",
    "results_formatted['text'] = text\n",
    "results_formatted['inclusive'] = inclusive_score\n",
    "results_formatted['exclusive'] = exclusive_score\n",
    "\n",
    "results_formatted.to_csv(\"../results/bart-large-mnli.csv\", index=False)"
   ]
  }
 ],
 "metadata": {
  "kernelspec": {
   "display_name": "tf",
   "language": "python",
   "name": "python3"
  },
  "language_info": {
   "codemirror_mode": {
    "name": "ipython",
    "version": 3
   },
   "file_extension": ".py",
   "mimetype": "text/x-python",
   "name": "python",
   "nbconvert_exporter": "python",
   "pygments_lexer": "ipython3",
   "version": "3.8.16 (default, Jan 17 2023, 23:13:24) \n[GCC 11.2.0]"
  },
  "orig_nbformat": 4,
  "vscode": {
   "interpreter": {
    "hash": "a20bf4446eb962a62a523ed10fefb4852bfc518dc6434bbccd861f07f3b19b23"
   }
  }
 },
 "nbformat": 4,
 "nbformat_minor": 2
}
