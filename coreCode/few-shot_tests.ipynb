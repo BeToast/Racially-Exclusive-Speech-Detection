{
 "cells": [
  {
   "cell_type": "code",
   "execution_count": 1,
   "metadata": {},
   "outputs": [
    {
     "name": "stderr",
     "output_type": "stream",
     "text": [
      "Downloading: 100%|██████████| 445/445 [00:00<00:00, 374kB/s]\n",
      "Downloading: 100%|██████████| 3.79k/3.79k [00:00<00:00, 2.87MB/s]\n",
      "Downloading: 100%|██████████| 1.15k/1.15k [00:00<00:00, 966kB/s]\n",
      "Downloading: 100%|██████████| 456k/456k [00:00<00:00, 911kB/s] \n",
      "Downloading: 100%|██████████| 1.63G/1.63G [02:26<00:00, 11.2MB/s] \n",
      "Downloading: 100%|██████████| 1.63G/1.63G [02:25<00:00, 11.2MB/s]\n",
      "Downloading: 100%|██████████| 1.36M/1.36M [00:00<00:00, 2.12MB/s]\n",
      "Downloading: 100%|██████████| 26.0/26.0 [00:00<00:00, 28.3kB/s]\n",
      "Downloading: 100%|██████████| 899k/899k [00:00<00:00, 1.50MB/s]\n",
      "No sentence-transformers model found with name /home/blake/.cache/torch/sentence_transformers/facebook_bart-large-mnli. Creating a new one with MEAN pooling.\n",
      "Some weights of the model checkpoint at /home/blake/.cache/torch/sentence_transformers/facebook_bart-large-mnli were not used when initializing BartModel: ['classification_head.out_proj.bias', 'classification_head.dense.weight', 'classification_head.dense.bias', 'classification_head.out_proj.weight']\n",
      "- This IS expected if you are initializing BartModel from the checkpoint of a model trained on another task or with another architecture (e.g. initializing a BertForSequenceClassification model from a BertForPreTraining model).\n",
      "- This IS NOT expected if you are initializing BartModel from the checkpoint of a model that you expect to be exactly identical (initializing a BertForSequenceClassification model from a BertForSequenceClassification model).\n",
      "model_head.pkl not found on HuggingFace Hub, initialising classification head with random weights. You should TRAIN this model on a downstream task to use it for predictions and inference.\n"
     ]
    },
    {
     "ename": "AttributeError",
     "evalue": "'DataFrame' object has no attribute 'column_names'",
     "output_type": "error",
     "traceback": [
      "\u001b[0;31m---------------------------------------------------------------------------\u001b[0m",
      "\u001b[0;31mAttributeError\u001b[0m                            Traceback (most recent call last)",
      "Cell \u001b[0;32mIn[1], line 26\u001b[0m\n\u001b[1;32m     13\u001b[0m trainer \u001b[39m=\u001b[39m SetFitTrainer(\n\u001b[1;32m     14\u001b[0m   model\u001b[39m=\u001b[39mmodel,\n\u001b[1;32m     15\u001b[0m   train_dataset\u001b[39m=\u001b[39mtrain_dataset,\n\u001b[0;32m   (...)\u001b[0m\n\u001b[1;32m     22\u001b[0m   column_mapping\u001b[39m=\u001b[39m{\u001b[39m\"\u001b[39m\u001b[39mtext\u001b[39m\u001b[39m\"\u001b[39m: \u001b[39m\"\u001b[39m\u001b[39mtext\u001b[39m\u001b[39m\"\u001b[39m, \u001b[39m\"\u001b[39m\u001b[39mclass\u001b[39m\u001b[39m\"\u001b[39m: \u001b[39m\"\u001b[39m\u001b[39mlabel\u001b[39m\u001b[39m\"\u001b[39m} \u001b[39m# Map dataset columns to text/label expected by trainer\u001b[39;00m\n\u001b[1;32m     23\u001b[0m )\n\u001b[1;32m     25\u001b[0m \u001b[39m# Train and evaluate\u001b[39;00m\n\u001b[0;32m---> 26\u001b[0m trainer\u001b[39m.\u001b[39;49mtrain()\n\u001b[1;32m     27\u001b[0m metrics \u001b[39m=\u001b[39m trainer\u001b[39m.\u001b[39mevaluate()\n",
      "File \u001b[0;32m~/miniconda3/envs/tf/lib/python3.8/site-packages/setfit/trainer.py:305\u001b[0m, in \u001b[0;36mSetFitTrainer.train\u001b[0;34m(self, num_epochs, batch_size, learning_rate, body_learning_rate, l2_weight, max_length, trial, show_progress_bar)\u001b[0m\n\u001b[1;32m    302\u001b[0m \u001b[39mif\u001b[39;00m \u001b[39mself\u001b[39m\u001b[39m.\u001b[39mtrain_dataset \u001b[39mis\u001b[39;00m \u001b[39mNone\u001b[39;00m:\n\u001b[1;32m    303\u001b[0m     \u001b[39mraise\u001b[39;00m \u001b[39mValueError\u001b[39;00m(\u001b[39m\"\u001b[39m\u001b[39mTraining requires a `train_dataset` given to the `SetFitTrainer` initialization.\u001b[39m\u001b[39m\"\u001b[39m)\n\u001b[0;32m--> 305\u001b[0m \u001b[39mself\u001b[39;49m\u001b[39m.\u001b[39;49m_validate_column_mapping(\u001b[39mself\u001b[39;49m\u001b[39m.\u001b[39;49mtrain_dataset)\n\u001b[1;32m    306\u001b[0m train_dataset \u001b[39m=\u001b[39m \u001b[39mself\u001b[39m\u001b[39m.\u001b[39mtrain_dataset\n\u001b[1;32m    307\u001b[0m \u001b[39mif\u001b[39;00m \u001b[39mself\u001b[39m\u001b[39m.\u001b[39mcolumn_mapping \u001b[39mis\u001b[39;00m \u001b[39mnot\u001b[39;00m \u001b[39mNone\u001b[39;00m:\n",
      "File \u001b[0;32m~/miniconda3/envs/tf/lib/python3.8/site-packages/setfit/trainer.py:139\u001b[0m, in \u001b[0;36mSetFitTrainer._validate_column_mapping\u001b[0;34m(self, dataset)\u001b[0m\n\u001b[1;32m    135\u001b[0m \u001b[39m\"\"\"\u001b[39;00m\n\u001b[1;32m    136\u001b[0m \u001b[39mValidates the provided column mapping against the dataset.\u001b[39;00m\n\u001b[1;32m    137\u001b[0m \u001b[39m\"\"\"\u001b[39;00m\n\u001b[1;32m    138\u001b[0m required_columns \u001b[39m=\u001b[39m {\u001b[39m\"\u001b[39m\u001b[39mtext\u001b[39m\u001b[39m\"\u001b[39m, \u001b[39m\"\u001b[39m\u001b[39mlabel\u001b[39m\u001b[39m\"\u001b[39m}\n\u001b[0;32m--> 139\u001b[0m column_names \u001b[39m=\u001b[39m \u001b[39mset\u001b[39m(dataset\u001b[39m.\u001b[39;49mcolumn_names)\n\u001b[1;32m    140\u001b[0m \u001b[39mif\u001b[39;00m \u001b[39mself\u001b[39m\u001b[39m.\u001b[39mcolumn_mapping \u001b[39mis\u001b[39;00m \u001b[39mNone\u001b[39;00m \u001b[39mand\u001b[39;00m \u001b[39mnot\u001b[39;00m required_columns\u001b[39m.\u001b[39missubset(column_names):\n\u001b[1;32m    141\u001b[0m     \u001b[39mraise\u001b[39;00m \u001b[39mValueError\u001b[39;00m(\n\u001b[1;32m    142\u001b[0m         \u001b[39mf\u001b[39m\u001b[39m\"\u001b[39m\u001b[39mA column mapping must be provided when the dataset does not contain the following columns: \u001b[39m\u001b[39m{\u001b[39;00mrequired_columns\u001b[39m}\u001b[39;00m\u001b[39m\"\u001b[39m\n\u001b[1;32m    143\u001b[0m     )\n",
      "File \u001b[0;32m~/miniconda3/envs/tf/lib/python3.8/site-packages/pandas/core/generic.py:5902\u001b[0m, in \u001b[0;36mNDFrame.__getattr__\u001b[0;34m(self, name)\u001b[0m\n\u001b[1;32m   5895\u001b[0m \u001b[39mif\u001b[39;00m (\n\u001b[1;32m   5896\u001b[0m     name \u001b[39mnot\u001b[39;00m \u001b[39min\u001b[39;00m \u001b[39mself\u001b[39m\u001b[39m.\u001b[39m_internal_names_set\n\u001b[1;32m   5897\u001b[0m     \u001b[39mand\u001b[39;00m name \u001b[39mnot\u001b[39;00m \u001b[39min\u001b[39;00m \u001b[39mself\u001b[39m\u001b[39m.\u001b[39m_metadata\n\u001b[1;32m   5898\u001b[0m     \u001b[39mand\u001b[39;00m name \u001b[39mnot\u001b[39;00m \u001b[39min\u001b[39;00m \u001b[39mself\u001b[39m\u001b[39m.\u001b[39m_accessors\n\u001b[1;32m   5899\u001b[0m     \u001b[39mand\u001b[39;00m \u001b[39mself\u001b[39m\u001b[39m.\u001b[39m_info_axis\u001b[39m.\u001b[39m_can_hold_identifiers_and_holds_name(name)\n\u001b[1;32m   5900\u001b[0m ):\n\u001b[1;32m   5901\u001b[0m     \u001b[39mreturn\u001b[39;00m \u001b[39mself\u001b[39m[name]\n\u001b[0;32m-> 5902\u001b[0m \u001b[39mreturn\u001b[39;00m \u001b[39mobject\u001b[39;49m\u001b[39m.\u001b[39;49m\u001b[39m__getattribute__\u001b[39;49m(\u001b[39mself\u001b[39;49m, name)\n",
      "\u001b[0;31mAttributeError\u001b[0m: 'DataFrame' object has no attribute 'column_names'"
     ]
    }
   ],
   "source": [
    "from sentence_transformers.losses import CosineSimilarityLoss\n",
    "from setfit import SetFitModel, SetFitTrainer\n",
    "import pandas as pd\n",
    "\n",
    "# train pairs 4\n",
    "train_dataset = pd.read_csv(\"../data_ready/few_shot/train_pairs_random_4.csv\").sample(frac=1)\n",
    "eval_dataset = pd.read_csv(\"../data_ready/few_shot/unused_pairs_for_test_data.csv\").sample(frac=1)\n",
    "\n",
    "# Load a SetFit model from Hub\n",
    "model = SetFitModel.from_pretrained(\"facebook/bart-large-mnli\")\n",
    "\n",
    "# Create trainer\n",
    "trainer = SetFitTrainer(\n",
    "  model=model,\n",
    "  train_dataset=train_dataset,\n",
    "  eval_dataset=eval_dataset,\n",
    "  loss_class=CosineSimilarityLoss,\n",
    "  metric=\"accuracy\",\n",
    "  batch_size=16,\n",
    "  num_iterations=20, # The number of text pairs to generate for contrastive learning\n",
    "  num_epochs=1, # The number of epochs to use for contrastive learning\n",
    "  column_mapping={\"text\": \"text\", \"class\": \"label\"} # Map dataset columns to text/label expected by trainer\n",
    ")\n",
    "\n",
    "# Train and evaluate\n",
    "trainer.train()\n",
    "metrics = trainer.evaluate()\n",
    "\n",
    "################ hugging face hub?? ##################\n",
    "# Push model to the Hub\n",
    "# trainer.push_to_hub(\"my-awesome-setfit-model\")\n",
    "\n",
    "# Download from Hub and run inference\n",
    "# model = SetFitModel.from_pretrained(\"lewtun/my-awesome-setfit-model\")\n",
    "###############################################\n",
    "\n",
    "# Run inference\n",
    "# preds = model([\"i loved the spiderman movie!\", \"pineapple on pizza is the worst 🤮\"])"
   ]
  }
 ],
 "metadata": {
  "kernelspec": {
   "display_name": "tf",
   "language": "python",
   "name": "python3"
  },
  "language_info": {
   "codemirror_mode": {
    "name": "ipython",
    "version": 3
   },
   "file_extension": ".py",
   "mimetype": "text/x-python",
   "name": "python",
   "nbconvert_exporter": "python",
   "pygments_lexer": "ipython3",
   "version": "3.8.16"
  },
  "orig_nbformat": 4,
  "vscode": {
   "interpreter": {
    "hash": "a20bf4446eb962a62a523ed10fefb4852bfc518dc6434bbccd861f07f3b19b23"
   }
  }
 },
 "nbformat": 4,
 "nbformat_minor": 2
}
