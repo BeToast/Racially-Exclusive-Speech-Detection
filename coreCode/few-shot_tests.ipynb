{
 "cells": [
  {
   "cell_type": "code",
   "execution_count": 5,
   "metadata": {},
   "outputs": [
    {
     "name": "stderr",
     "output_type": "stream",
     "text": [
      "Downloading (…)995f2/.gitattributes: 100%|██████████| 445/445 [00:00<00:00, 51.4kB/s]\n",
      "Downloading (…)3fb03995f2/README.md: 100%|██████████| 3.79k/3.79k [00:00<00:00, 216kB/s]\n",
      "Downloading (…)b03995f2/config.json: 100%|██████████| 1.15k/1.15k [00:00<00:00, 179kB/s]\n",
      "Downloading (…)fb03995f2/merges.txt: 100%|██████████| 456k/456k [00:00<00:00, 1.09MB/s]\n",
      "Downloading (…)\"model.safetensors\";: 100%|██████████| 1.63G/1.63G [02:23<00:00, 11.4MB/s]\n",
      "Downloading (…)\"pytorch_model.bin\";: 100%|██████████| 1.63G/1.63G [02:22<00:00, 11.4MB/s]\n",
      "Downloading (…)995f2/tokenizer.json: 100%|██████████| 1.36M/1.36M [00:02<00:00, 514kB/s]\n",
      "Downloading (…)okenizer_config.json: 100%|██████████| 26.0/26.0 [00:00<00:00, 6.79kB/s]\n",
      "Downloading (…)fb03995f2/vocab.json: 100%|██████████| 899k/899k [00:01<00:00, 665kB/s]\n",
      "No sentence-transformers model found with name /home/blake/.cache/torch/sentence_transformers/facebook_bart-large-mnli. Creating a new one with MEAN pooling.\n"
     ]
    },
    {
     "ename": "",
     "evalue": "",
     "output_type": "error",
     "traceback": [
      "\u001b[1;31mThe Kernel crashed while executing code in the the current cell or a previous cell. Please review the code in the cell(s) to identify a possible cause of the failure. Click <a href='https://aka.ms/vscodeJupyterKernelCrash'>here</a> for more info. View Jupyter <a href='command:jupyter.viewOutput'>log</a> for further details."
     ]
    },
    {
     "ename": "",
     "evalue": "",
     "output_type": "error",
     "traceback": [
      "\u001b[1;31mCanceled future for execute_request message before replies were done"
     ]
    }
   ],
   "source": [
    "from sentence_transformers.losses import CosineSimilarityLoss\n",
    "from setfit import SetFitModel, SetFitTrainer\n",
    "import pandas as pd\n",
    "import datasets\n",
    "import pyarrow as pa\n",
    "\n",
    "# train pairs 4\n",
    "train_dataframe = pd.read_csv(\"../data_ready/few_shot/train_pairs_random_4.csv\").sample(frac=1)\n",
    "eval_dataframe = pd.read_csv(\"../data_ready/unused_pairs_for_test_data.csv\").sample(frac=1)\n",
    "\n",
    "train_dataset = datasets.Dataset(pa.Table.from_pandas(train_dataframe))\n",
    "test_dataset = datasets.Dataset(pa.Table.from_pandas(eval_dataframe))\n",
    "\n",
    "# Load a SetFit model from Hub\n",
    "model = SetFitModel.from_pretrained(\"facebook/bart-large-mnli\")\n",
    "\n",
    "# Create trainer\n",
    "trainer = SetFitTrainer(\n",
    "  model=model,\n",
    "  train_dataset=train_dataset,\n",
    "  eval_dataset=test_dataset,\n",
    "  loss_class=CosineSimilarityLoss,\n",
    "  metric=\"accuracy\",\n",
    "  batch_size=16,\n",
    "  num_iterations=20, # The number of text pairs to generate for contrastive learning\n",
    "  num_epochs=1, # The number of epochs to use for contrastive learning\n",
    "  column_mapping={\"text\": \"text\", \"class\": \"label\"} # Map dataset columns to text/label expected by trainer\n",
    ")\n",
    "\n",
    "# Train and evaluate\n",
    "trainer.train()\n",
    "metrics = trainer.evaluate()\n",
    "\n",
    "################ hugging face hub?? ##################\n",
    "# Push model to the Hub\n",
    "# trainer.push_to_hub(\"my-awesome-setfit-model\")\n",
    "\n",
    "# Download from Hub and run inference\n",
    "# model = SetFitModel.from_pretrained(\"lewtun/my-awesome-setfit-model\")\n",
    "###############################################\n",
    "\n",
    "# Run inference\n",
    "# preds = model([\"i loved the spiderman movie!\", \"pineapple on pizza is the worst 🤮\"])"
   ]
  }
 ],
 "metadata": {
  "kernelspec": {
   "display_name": "fyp",
   "language": "python",
   "name": "python3"
  },
  "language_info": {
   "codemirror_mode": {
    "name": "ipython",
    "version": 3
   },
   "file_extension": ".py",
   "mimetype": "text/x-python",
   "name": "python",
   "nbconvert_exporter": "python",
   "pygments_lexer": "ipython3",
   "version": "3.8.10 (default, Nov 14 2022, 12:59:47) \n[GCC 9.4.0]"
  },
  "orig_nbformat": 4,
  "vscode": {
   "interpreter": {
    "hash": "9a087ff6df60b7b11c8f40c254358573ffeaae9884c78b2d4011057590ac9004"
   }
  }
 },
 "nbformat": 4,
 "nbformat_minor": 2
}
