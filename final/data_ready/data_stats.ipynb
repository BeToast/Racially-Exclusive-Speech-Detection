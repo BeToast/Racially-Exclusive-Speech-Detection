{
 "cells": [
  {
   "cell_type": "code",
   "execution_count": 2,
   "metadata": {},
   "outputs": [],
   "source": [
    "import pandas as pd"
   ]
  },
  {
   "attachments": {},
   "cell_type": "markdown",
   "metadata": {},
   "source": [
    "get string len average"
   ]
  },
  {
   "cell_type": "code",
   "execution_count": 4,
   "metadata": {},
   "outputs": [
    {
     "name": "stdout",
     "output_type": "stream",
     "text": [
      "inc string len average : 115.10714285714286\n",
      "exc string len average : 52.482142857142854\n"
     ]
    }
   ],
   "source": [
    "train_path = \"all_data.csv\"\n",
    "\n",
    "data=pd.read_csv(train_path).sample(frac=1)\n",
    "\n",
    "char_count_inc = 0\n",
    "char_count_exc = 0\n",
    "for index, row in data.iterrows():\n",
    "  if row['class'] == 1:\n",
    "    char_count_inc += len(row['text'])\n",
    "  else:\n",
    "    char_count_exc += len(row['text'])\n",
    "\n",
    "inc_char_avg = char_count_inc/168\n",
    "exc_char_avg = char_count_exc/168\n",
    "print(f\"inc string len average : {inc_char_avg}\\nexc string len average : {exc_char_avg}\")"
   ]
  },
  {
   "attachments": {},
   "cell_type": "markdown",
   "metadata": {},
   "source": [
    "get amount below avg length of opposite class"
   ]
  },
  {
   "cell_type": "code",
   "execution_count": 8,
   "metadata": {},
   "outputs": [
    {
     "name": "stdout",
     "output_type": "stream",
     "text": [
      "num of inc sentences less than exc char average : 8\n",
      "num of exc sentences greater than inc char average : 0\n"
     ]
    }
   ],
   "source": [
    "inc_lt_exc = 0\n",
    "exc_gt_inc = 0\n",
    "\n",
    "for index, row in data.iterrows():\n",
    "  if row['class'] == 1:\n",
    "    if len(row['text']) < exc_char_avg:\n",
    "      inc_lt_exc += 1\n",
    "  else:\n",
    "    if len(row['text']) > inc_char_avg:\n",
    "      exc_gt_inc += 1\n",
    "\n",
    "print(f\"num of inc sentences less than exc char average : {inc_lt_exc}\\nnum of exc sentences greater than inc char average : {exc_gt_inc}\")"
   ]
  }
 ],
 "metadata": {
  "kernelspec": {
   "display_name": "fyp",
   "language": "python",
   "name": "python3"
  },
  "language_info": {
   "codemirror_mode": {
    "name": "ipython",
    "version": 3
   },
   "file_extension": ".py",
   "mimetype": "text/x-python",
   "name": "python",
   "nbconvert_exporter": "python",
   "pygments_lexer": "ipython3",
   "version": "3.10.6"
  },
  "orig_nbformat": 4
 },
 "nbformat": 4,
 "nbformat_minor": 2
}
