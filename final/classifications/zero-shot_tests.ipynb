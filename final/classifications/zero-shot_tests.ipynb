{
 "cells": [
  {
   "cell_type": "code",
   "execution_count": null,
   "metadata": {},
   "outputs": [],
   "source": [
    "from google.colab import drive\n",
    "drive.mount('/content/drive')"
   ]
  },
  {
   "cell_type": "code",
   "execution_count": 14,
   "metadata": {},
   "outputs": [],
   "source": [
    "import os\n",
    "import pandas as pd\n",
    "import transformers"
   ]
  },
  {
   "attachments": {},
   "cell_type": "markdown",
   "metadata": {},
   "source": [
    "#### helper function below"
   ]
  },
  {
   "cell_type": "code",
   "execution_count": 15,
   "metadata": {},
   "outputs": [],
   "source": [
    "def zeroshot(model_name, csv_name):\n",
    "  train_path = \"drive/MyDrive/fyp/data_ready/all_data.csv\"\n",
    "  # train_path = \"../data_ready/all_data.csv\"\n",
    "  print(f\"zero_shot data exist? : {os.path.exists(train_path)}\")\n",
    "\n",
    "  data=pd.read_csv(train_path).sample(frac=1)#.reset_index() #shuffle dataframe\n",
    "\n",
    "  data_text, data_lables = data['text'], data['class']\n",
    "  possible_data_labels = ['exclusive','inclusive']\n",
    "\n",
    "  classifier = transformers.pipeline(\"zero-shot-classification\", model=model_name)\n",
    "  zero_shot_results = classifier(list(data_text), possible_data_labels)\n",
    "\n",
    "  # text = list()\n",
    "  prediction = list()\n",
    "\n",
    "  for result in zero_shot_results:\n",
    "    # text.append(result.get(\"sequence\"))\n",
    "    if result.get('labels')[0] == possible_data_labels[0]:\n",
    "      prediction.append(0)\n",
    "    else:\n",
    "      prediction.append(1)\n",
    "\n",
    "\n",
    "  results_formatted = pd.DataFrame()\n",
    "  results_formatted['text'] = data_text\n",
    "  results_formatted['class'] = data_lables\n",
    "  results_formatted['predicted'] = prediction\n",
    "\n",
    "  results_formatted.to_csv(\"drive/MyDrive/fyp/predictions/\"+csv_name+\".csv\", index=False)\n",
    "  # results_formatted.to_csv(\"../predictions/\"+csv_name+\".csv\", index=False)\n"
   ]
  },
  {
   "attachments": {},
   "cell_type": "markdown",
   "metadata": {},
   "source": [
    "### Run all zeroshot classifiers"
   ]
  },
  {
   "cell_type": "code",
   "execution_count": null,
   "metadata": {},
   "outputs": [],
   "source": [
    "zeroshot(\"morit/french_xlm_xnli\",\"ZEROSHOT_french_xlm_xnli\")"
   ]
  }
 ],
 "metadata": {
  "kernelspec": {
   "display_name": "fyp",
   "language": "python",
   "name": "python3"
  },
  "language_info": {
   "codemirror_mode": {
    "name": "ipython",
    "version": 3
   },
   "file_extension": ".py",
   "mimetype": "text/x-python",
   "name": "python",
   "nbconvert_exporter": "python",
   "pygments_lexer": "ipython3",
   "version": "3.10.6"
  },
  "orig_nbformat": 4,
  "vscode": {
   "interpreter": {
    "hash": "9a087ff6df60b7b11c8f40c254358573ffeaae9884c78b2d4011057590ac9004"
   }
  }
 },
 "nbformat": 4,
 "nbformat_minor": 2
}
