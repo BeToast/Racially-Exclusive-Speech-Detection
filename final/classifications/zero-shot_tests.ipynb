{
 "cells": [
  {
   "cell_type": "code",
   "execution_count": null,
   "metadata": {},
   "outputs": [],
   "source": [
    "from google.colab import drive\n",
    "drive.mount('/content/drive')"
   ]
  },
  {
   "cell_type": "code",
   "execution_count": 14,
   "metadata": {},
   "outputs": [],
   "source": [
    "import os\n",
    "import pandas as pd\n",
    "import transformers"
   ]
  },
  {
   "attachments": {},
   "cell_type": "markdown",
   "metadata": {},
   "source": [
    "#### helper function below"
   ]
  },
  {
   "cell_type": "code",
   "execution_count": 15,
   "metadata": {},
   "outputs": [],
   "source": [
    "def zeroshot(model_name, csv_name):\n",
    "  train_path = \"drive/MyDrive/fyp/data_ready/all_data.csv\"\n",
    "  # train_path = \"../data_ready/all_data.csv\"\n",
    "  print(f\"zero_shot data exist? : {os.path.exists(train_path)}\")\n",
    "\n",
    "  data=pd.read_csv(train_path).sample(frac=1)#.reset_index() #shuffle dataframe\n",
    "\n",
    "  data_text, data_lables = data['text'], data['class']\n",
    "  possible_data_labels = ['exclusive','inclusive']\n",
    "\n",
    "  classifier = transformers.pipeline(\"zero-shot-classification\", model=model_name)\n",
    "  zero_shot_results = classifier(list(data_text), possible_data_labels)\n",
    "\n",
    "  text = list()\n",
    "  prediction = list()\n",
    "\n",
    "  for result in zero_shot_results:\n",
    "    text.append(result.get(\"sequence\"))\n",
    "    inc = result.get('scores')[0]\n",
    "    exc = result.get('scores')[1]\n",
    "    if inc>exc:\n",
    "      prediction.append(1)\n",
    "    else:\n",
    "      prediction.append(0)\n",
    "\n",
    "  #### ADD EXTRA RESULTS #####\n",
    "  extra_example = classifier(\"I HATE YOU!\", possible_data_labels)\n",
    "  text.append(\"I HATE YOU!\")\n",
    "  # data_lables.append(0)\n",
    "  inc = extra_example.get('scores')[0]\n",
    "  exc = extra_example.get('scores')[1]\n",
    "  if inc>exc:\n",
    "    prediction.append(1)\n",
    "  else:\n",
    "    prediction.append(0)\n",
    "  #### END EXTRA SENTENCES TO CLASSIFY ####\n",
    "\n",
    "  results_formatted = pd.DataFrame()\n",
    "  results_formatted['text'] = text\n",
    "  results_formatted['class'] = data_lables\n",
    "  results_formatted['predicted'] = prediction\n",
    "\n",
    "  results_formatted.to_csv(\"drive/MyDrive/fyp/predictions/\"+csv_name+\".csv\", index=False)\n",
    "  # results_formatted.to_csv(\"../predictions/\"+csv_name+\".csv\", index=False)\n"
   ]
  },
  {
   "attachments": {},
   "cell_type": "markdown",
   "metadata": {},
   "source": [
    "### Run all zeroshot classifiers"
   ]
  },
  {
   "cell_type": "code",
   "execution_count": 16,
   "metadata": {},
   "outputs": [
    {
     "name": "stdout",
     "output_type": "stream",
     "text": [
      "zero_shot data exist? : True\n"
     ]
    },
    {
     "name": "stderr",
     "output_type": "stream",
     "text": [
      "Ignoring args : (['exclusive', 'inclusive'],)\n"
     ]
    },
    {
     "ename": "TypeError",
     "evalue": "'NoneType' object is not subscriptable",
     "output_type": "error",
     "traceback": [
      "\u001b[0;31m---------------------------------------------------------------------------\u001b[0m",
      "\u001b[0;31mTypeError\u001b[0m                                 Traceback (most recent call last)",
      "\u001b[1;32m/home/blake/4thyear/Racially-Exclusive-Speech-Detection/final/classifications/zero-shot_tests.ipynb Cell 5\u001b[0m in \u001b[0;36m1\n\u001b[0;32m----> <a href='vscode-notebook-cell:/home/blake/4thyear/Racially-Exclusive-Speech-Detection/final/classifications/zero-shot_tests.ipynb#W4sZmlsZQ%3D%3D?line=0'>1</a>\u001b[0m zeroshot(\u001b[39m\"\u001b[39m\u001b[39mmorit/french_xlm_xnli\u001b[39m\u001b[39m\"\u001b[39m,\u001b[39m\"\u001b[39m\u001b[39mZEROSHOT_french_xlm_xnli\u001b[39m\u001b[39m\"\u001b[39m)\n",
      "\u001b[1;32m/home/blake/4thyear/Racially-Exclusive-Speech-Detection/final/classifications/zero-shot_tests.ipynb Cell 5\u001b[0m in \u001b[0;36m1\n\u001b[1;32m     <a href='vscode-notebook-cell:/home/blake/4thyear/Racially-Exclusive-Speech-Detection/final/classifications/zero-shot_tests.ipynb#W4sZmlsZQ%3D%3D?line=15'>16</a>\u001b[0m \u001b[39mfor\u001b[39;00m result \u001b[39min\u001b[39;00m zero_shot_results:\n\u001b[1;32m     <a href='vscode-notebook-cell:/home/blake/4thyear/Racially-Exclusive-Speech-Detection/final/classifications/zero-shot_tests.ipynb#W4sZmlsZQ%3D%3D?line=16'>17</a>\u001b[0m   text\u001b[39m.\u001b[39mappend(result\u001b[39m.\u001b[39mget(\u001b[39m\"\u001b[39m\u001b[39msequence\u001b[39m\u001b[39m\"\u001b[39m))\n\u001b[0;32m---> <a href='vscode-notebook-cell:/home/blake/4thyear/Racially-Exclusive-Speech-Detection/final/classifications/zero-shot_tests.ipynb#W4sZmlsZQ%3D%3D?line=17'>18</a>\u001b[0m   inc \u001b[39m=\u001b[39m result\u001b[39m.\u001b[39;49mget(\u001b[39m'\u001b[39;49m\u001b[39mscores\u001b[39;49m\u001b[39m'\u001b[39;49m)[\u001b[39m0\u001b[39;49m]\n\u001b[1;32m     <a href='vscode-notebook-cell:/home/blake/4thyear/Racially-Exclusive-Speech-Detection/final/classifications/zero-shot_tests.ipynb#W4sZmlsZQ%3D%3D?line=18'>19</a>\u001b[0m   exc \u001b[39m=\u001b[39m result\u001b[39m.\u001b[39mget(\u001b[39m'\u001b[39m\u001b[39mscores\u001b[39m\u001b[39m'\u001b[39m)[\u001b[39m1\u001b[39m]\n\u001b[1;32m     <a href='vscode-notebook-cell:/home/blake/4thyear/Racially-Exclusive-Speech-Detection/final/classifications/zero-shot_tests.ipynb#W4sZmlsZQ%3D%3D?line=19'>20</a>\u001b[0m   \u001b[39mif\u001b[39;00m inc\u001b[39m>\u001b[39mexc:\n",
      "\u001b[0;31mTypeError\u001b[0m: 'NoneType' object is not subscriptable"
     ]
    }
   ],
   "source": [
    "zeroshot(\"morit/french_xlm_xnli\",\"ZEROSHOT_french_xlm_xnli\")"
   ]
  }
 ],
 "metadata": {
  "kernelspec": {
   "display_name": "fyp",
   "language": "python",
   "name": "python3"
  },
  "language_info": {
   "codemirror_mode": {
    "name": "ipython",
    "version": 3
   },
   "file_extension": ".py",
   "mimetype": "text/x-python",
   "name": "python",
   "nbconvert_exporter": "python",
   "pygments_lexer": "ipython3",
   "version": "3.10.6"
  },
  "orig_nbformat": 4,
  "vscode": {
   "interpreter": {
    "hash": "9a087ff6df60b7b11c8f40c254358573ffeaae9884c78b2d4011057590ac9004"
   }
  }
 },
 "nbformat": 4,
 "nbformat_minor": 2
}
