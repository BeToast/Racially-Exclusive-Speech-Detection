{
 "cells": [
  {
   "cell_type": "code",
   "execution_count": null,
   "metadata": {},
   "outputs": [],
   "source": [
    "%pip install setfit\n",
    "from setfit import SetFitModel"
   ]
  },
  {
   "cell_type": "code",
   "execution_count": null,
   "metadata": {},
   "outputs": [],
   "source": [
    "# Download from Hub and run inference\n",
    "model = SetFitModel.from_pretrained(\"BeToast/xml_xnli__inclusiveORexclusive__binary_classification__frenchANDenglish\")"
   ]
  },
  {
   "cell_type": "code",
   "execution_count": null,
   "metadata": {},
   "outputs": [],
   "source": [
    "test = [\"Elves are all snobs\",\n",
    "        \"Dwarves are fat\",\n",
    "        \"Orcs are retarted\",\n",
    "        \"Elves are known for their high intelligence and wealth\",\n",
    "        \"Dwarves can be overweight due to their easy going nature and beer drinking\",\n",
    "        \"Orcs are usually dumber, however they can still accomplish great things\"]"
   ]
  },
  {
   "cell_type": "code",
   "execution_count": null,
   "metadata": {},
   "outputs": [],
   "source": [
    "# Run inclusive or exclusive binary classification.\n",
    "predictions = model(test)\n",
    "predictions"
   ]
  }
 ],
 "metadata": {
  "language_info": {
   "name": "python"
  },
  "orig_nbformat": 4
 },
 "nbformat": 4,
 "nbformat_minor": 2
}
