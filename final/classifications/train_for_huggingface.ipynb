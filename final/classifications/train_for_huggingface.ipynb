{
 "cells": [
  {
   "cell_type": "code",
   "execution_count": null,
   "metadata": {},
   "outputs": [],
   "source": [
    "from google.colab import drive\n",
    "drive.mount('/content/drive')\n",
    "\n",
    "%pip install transformers\n",
    "%pip install setfit\n",
    "%pip install pyarrow\n",
    "\n",
    "from setfit import SetFitModel, SetFitTrainer\n",
    "import pandas as pd\n",
    "import pyarrow as pa\n",
    "import datasets\n",
    "import pandas as pd\n",
    "from os import walk, makedirs\n",
    "from google.colab import files"
   ]
  },
  {
   "attachments": {},
   "cell_type": "markdown",
   "metadata": {},
   "source": [
    "prepare data"
   ]
  },
  {
   "cell_type": "code",
   "execution_count": null,
   "metadata": {},
   "outputs": [],
   "source": [
    "df = pd.read_csv(\"drive/MyDrive/fyp/data_ready/all_data.csv\").sample(frac=1)\n",
    "train_text = list(df[\"text\"])\n",
    "train_class = list(df[\"class\"])\n",
    "\n",
    "\n",
    "train_dataset = datasets.Dataset(pa.Table.from_arrays([train_text, train_class], [\"text\",\"class\"]))"
   ]
  },
  {
   "attachments": {},
   "cell_type": "markdown",
   "metadata": {},
   "source": [
    "prepare model"
   ]
  },
  {
   "cell_type": "code",
   "execution_count": null,
   "metadata": {},
   "outputs": [],
   "source": [
    "pretrainied_model_string=\"morit/french_xlm_xnli\"\n",
    "num_epoch=3\n",
    "\n",
    "\n",
    "model = SetFitModel.from_pretrained(pretrainied_model_string)\n",
    "num_iter = round(160/len(train_text))\n",
    "\n",
    "trainer = SetFitTrainer(\n",
    "  model=model,\n",
    "  train_dataset=train_dataset,\n",
    "  metric=\"accuracy\",\n",
    "  batch_size=16,\n",
    "  num_iterations=num_iter, # The number of text pairs to generate for contrastive learning\n",
    "  num_epochs=num_epoch, # The number of epochs to use for contrastive learning\n",
    "  column_mapping={\"text\": \"text\", \"class\": \"label\"} # Map dataset columns to text/label expected by trainer\n",
    ")"
   ]
  },
  {
   "attachments": {},
   "cell_type": "markdown",
   "metadata": {},
   "source": [
    "train model"
   ]
  },
  {
   "cell_type": "code",
   "execution_count": null,
   "metadata": {},
   "outputs": [],
   "source": [
    "# train network\n",
    "trainer.train()"
   ]
  },
  {
   "attachments": {},
   "cell_type": "markdown",
   "metadata": {},
   "source": [
    "save model"
   ]
  },
  {
   "cell_type": "code",
   "execution_count": null,
   "metadata": {},
   "outputs": [],
   "source": [
    "trainer.model._save_pretrained()"
   ]
  }
 ],
 "metadata": {
  "language_info": {
   "name": "python"
  },
  "orig_nbformat": 4
 },
 "nbformat": 4,
 "nbformat_minor": 2
}
