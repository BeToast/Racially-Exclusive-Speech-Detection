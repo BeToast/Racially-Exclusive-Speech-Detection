{
 "cells": [
  {
   "cell_type": "code",
   "execution_count": 7,
   "metadata": {},
   "outputs": [
    {
     "name": "stdout",
     "output_type": "stream",
     "text": [
      "['bert-base-multilingual-cased-sentiment-multilingual', 'xlm-roberta-base-sentiment-multilingual', 'dehatebert-mono-french', 'TFidf', 'french_xlm_xnli', 'Bert_embeddings']\n",
      "['bert-base-multilingual-cased-sentiment-multilingual', 'xlm-roberta-base-sentiment-multilingual', 'dehatebert-mono-french', 'TFidf', 'french_xlm_xnli', 'Bert_embeddings']\n",
      "['bert-base-multilingual-cased-sentiment-multilingual', 'xlm-roberta-base-sentiment-multilingual', 'dehatebert-mono-french', 'TFidf', 'french_xlm_xnli', 'Bert_embeddings']\n"
     ]
    }
   ],
   "source": [
    "from sklearn.metrics import classification_report\n",
    "from os import walk, makedirs\n",
    "import pandas as pd\n",
    "\n",
    "# predictions_dir = '../predictions/'\n",
    "# k_folds_dirs = next(walk(predictions_dir))[1]\n",
    "# for fold in k_folds_dirs:\n",
    "#   model_dirs = next(walk(f\"{predictions_dir}/{fold}\"))[1]\n",
    "#   print(model_dirs)"
   ]
  },
  {
   "cell_type": "code",
   "execution_count": null,
   "metadata": {},
   "outputs": [],
   "source": [
    "# def read_predictions_for_fold(k: int) -> dict:\n",
    "#   data_dict = {}\n",
    "#   k_fold_dir = f\"../predictions/k_is_{str(k)}/\"\n",
    "#   # print (os.path(data_ready_dir))\n",
    "#   filenames = []\n",
    "#   for (_, _, name) in walk(k_fold_dir): \n",
    "#     filenames.extend(name)\n",
    "\n",
    "#   for fname in filenames:\n",
    "#     dataframe = pd.read_csv(k_fold_dir+fname).sample(frac=1)\n",
    "#     dict_key = fname.split(\".csv\")[0]\n",
    "#     data_dict.update({dict_key : dataframe})\n",
    "\n",
    "#   return data_dict"
   ]
  }
 ],
 "metadata": {
  "kernelspec": {
   "display_name": "fyp",
   "language": "python",
   "name": "python3"
  },
  "language_info": {
   "codemirror_mode": {
    "name": "ipython",
    "version": 3
   },
   "file_extension": ".py",
   "mimetype": "text/x-python",
   "name": "python",
   "nbconvert_exporter": "python",
   "pygments_lexer": "ipython3",
   "version": "3.10.6"
  },
  "orig_nbformat": 4,
  "vscode": {
   "interpreter": {
    "hash": "9a087ff6df60b7b11c8f40c254358573ffeaae9884c78b2d4011057590ac9004"
   }
  }
 },
 "nbformat": 4,
 "nbformat_minor": 2
}
