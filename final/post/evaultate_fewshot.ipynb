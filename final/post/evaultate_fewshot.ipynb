{
 "cells": [
  {
   "cell_type": "code",
   "execution_count": 2,
   "metadata": {},
   "outputs": [],
   "source": [
    "from statistics import stdev\n",
    "from os import walk, makedirs\n",
    "import pandas as pd\n",
    "import numpy as np"
   ]
  },
  {
   "attachments": {},
   "cell_type": "markdown",
   "metadata": {},
   "source": [
    "### Create results files for each fold of every for each model"
   ]
  },
  {
   "cell_type": "code",
   "execution_count": 3,
   "metadata": {},
   "outputs": [],
   "source": [
    "\n",
    "from sklearn.metrics import precision_recall_fscore_support, accuracy_score\n",
    "\n",
    "predictions_dir = '../predictions'\n",
    "# k_folds_dirs = next(walk(predictions_dir))[1]\n",
    "pretrained_dirnames =['bert-base-multilingual-cased-sentiment-multilingual',\n",
    "                      'dehatebert-mono-french',\n",
    "                      'french_xlm_xnli',\n",
    "                      'xlm-roberta-base-sentiment-multilingual']\n",
    "\n",
    "result_cols=[\"model\", \"traindata\", \"accuracy\", \"std_accuracy\", \"precision\", \"std_precision\", \"recall\", \"std_recall\", \"f1\", \"std_f1\"]\n",
    "dfs ={'bert-base-multilingual-cased-sentiment-multilingual':pd.DataFrame(columns=result_cols),\n",
    "      'dehatebert-mono-french':pd.DataFrame(columns=result_cols),\n",
    "      'french_xlm_xnli':pd.DataFrame(columns=result_cols),\n",
    "      'xlm-roberta-base-sentiment-multilingual':pd.DataFrame(columns=result_cols)}\n",
    "\n",
    "for pretrained in pretrained_dirnames:\n",
    "  df = dfs.get(pretrained)\n",
    "  result_files = next(walk(f\"{predictions_dir}/k_is_0/{pretrained}/\"))[2]\n",
    "  for file in result_files: # 'text', 'class', 'predicted'\n",
    "    prec = list()\n",
    "    recall = list()\n",
    "    f1 = list()\n",
    "    accuracy = list()\n",
    "    for k in range(0,3):\n",
    "      results = pd.read_csv(f\"{predictions_dir}/k_is_{k}/{pretrained}/{file}\").sample(frac=1)\n",
    "      prec_curr, recall_curr, f1_curr, _ = precision_recall_fscore_support(results[\"class\"], results[\"predicted\"], average='macro')\n",
    "      accuracy_curr = accuracy_score(results[\"class\"], results[\"predicted\"])\n",
    "      prec.append(prec_curr)\n",
    "      recall.append(recall_curr)\n",
    "      f1.append(f1_curr)\n",
    "      accuracy.append(accuracy_curr)\n",
    "    \n",
    "    # add results to dict\n",
    "    df.loc[len(df.index)] = [pretrained, file,\n",
    "                            np.mean(accuracy), stdev(accuracy),\n",
    "                            np.mean(prec), stdev(prec),\n",
    "                            np.mean(recall), stdev(recall),\n",
    "                            np.mean(f1), stdev(f1)]"
   ]
  },
  {
   "cell_type": "code",
   "execution_count": 4,
   "metadata": {},
   "outputs": [],
   "source": [
    "results_dir=\"../results\"\n",
    "for pretrained in pretrained_dirnames:\n",
    "  dfs[pretrained].to_csv(f\"{results_dir}/{pretrained}\", index=False)"
   ]
  },
  {
   "cell_type": "code",
   "execution_count": 3,
   "metadata": {},
   "outputs": [
    {
     "name": "stdout",
     "output_type": "stream",
     "text": [
      "              model       traindata  accuracy  std_accuracy  precision  \\\n",
      "25  french_xlm_xnli   4epoch_train2  0.910714      0.043052   0.913224   \n",
      "11  french_xlm_xnli   3epoch_train4  0.934524      0.032295   0.940691   \n",
      "26  french_xlm_xnli  1epoch_train28  0.961310      0.006819   0.961480   \n",
      "17  french_xlm_xnli  5epoch_train28  0.964286      0.004464   0.964659   \n",
      "12  french_xlm_xnli  2epoch_train22  0.965774      0.006819   0.966475   \n",
      "23  french_xlm_xnli   3epoch_train2  0.903274      0.044717   0.907965   \n",
      "15  french_xlm_xnli   5epoch_train4  0.934524      0.034097   0.939050   \n",
      "5   french_xlm_xnli  4epoch_train16  0.965774      0.002577   0.966580   \n",
      "18  french_xlm_xnli   5epoch_train8  0.944940      0.010310   0.946867   \n",
      "3   french_xlm_xnli   1epoch_train4  0.918155      0.043360   0.920127   \n",
      "0   french_xlm_xnli  5epoch_train22  0.970238      0.002577   0.971364   \n",
      "16  french_xlm_xnli   2epoch_train4  0.936012      0.034676   0.941061   \n",
      "13  french_xlm_xnli   3epoch_train8  0.946429      0.011811   0.947427   \n",
      "21  french_xlm_xnli  1epoch_train16  0.949405      0.002577   0.950584   \n",
      "2   french_xlm_xnli  1epoch_train22  0.961310      0.005155   0.962137   \n",
      "27  french_xlm_xnli   2epoch_train8  0.927083      0.022909   0.927372   \n",
      "20  french_xlm_xnli   1epoch_train8  0.909226      0.045600   0.911821   \n",
      "6   french_xlm_xnli   2epoch_train2  0.897321      0.040916   0.903586   \n",
      "4   french_xlm_xnli  3epoch_train16  0.961310      0.006819   0.961771   \n",
      "9   french_xlm_xnli  3epoch_train28  0.967262      0.005155   0.967914   \n",
      "14  french_xlm_xnli   5epoch_train2  0.916667      0.040013   0.918954   \n",
      "29  french_xlm_xnli  2epoch_train16  0.956845      0.002577   0.957343   \n",
      "10  french_xlm_xnli  2epoch_train28  0.967262      0.002577   0.967936   \n",
      "19  french_xlm_xnli  4epoch_train22  0.971726      0.006819   0.972487   \n",
      "24  french_xlm_xnli  3epoch_train22  0.968750      0.004464   0.969509   \n",
      "8   french_xlm_xnli   1epoch_train2  0.885417      0.027277   0.893242   \n",
      "7   french_xlm_xnli  5epoch_train16  0.967262      0.002577   0.968180   \n",
      "1   french_xlm_xnli  4epoch_train28  0.964286      0.004464   0.964659   \n",
      "22  french_xlm_xnli   4epoch_train4  0.937500      0.038143   0.942859   \n",
      "28  french_xlm_xnli   4epoch_train8  0.943452      0.009293   0.945415   \n",
      "\n",
      "    std_precision    recall  std_recall        f1    std_f1  \n",
      "25       0.045397  0.910714    0.043052  0.910624  0.042984  \n",
      "11       0.027389  0.934524    0.032295  0.934217  0.032676  \n",
      "26       0.006741  0.961310    0.006819  0.961306  0.006821  \n",
      "17       0.004918  0.964286    0.004464  0.964279  0.004457  \n",
      "12       0.006131  0.965774    0.006819  0.965759  0.006836  \n",
      "23       0.047482  0.903274    0.044717  0.903049  0.044633  \n",
      "15       0.029889  0.934524    0.034097  0.934286  0.034400  \n",
      "5        0.002252  0.965774    0.002577  0.965758  0.002590  \n",
      "18       0.009650  0.944940    0.010310  0.944878  0.010349  \n",
      "3        0.042864  0.918155    0.043360  0.918044  0.043450  \n",
      "0        0.002173  0.970238    0.002577  0.970220  0.002586  \n",
      "16       0.030495  0.936012    0.034676  0.935758  0.034980  \n",
      "13       0.010283  0.946429    0.011811  0.946391  0.011871  \n",
      "21       0.003425  0.949405    0.002577  0.949372  0.002564  \n",
      "2        0.003850  0.961310    0.005155  0.961290  0.005187  \n",
      "27       0.023026  0.927083    0.022909  0.927072  0.022905  \n",
      "20       0.042941  0.909226    0.045600  0.909013  0.045899  \n",
      "6        0.042654  0.897321    0.040916  0.896943  0.040929  \n",
      "4        0.006282  0.961310    0.006819  0.961298  0.006833  \n",
      "9        0.005778  0.967262    0.005155  0.967252  0.005147  \n",
      "14       0.041996  0.916667    0.040013  0.916587  0.039959  \n",
      "29       0.002255  0.956845    0.002577  0.956833  0.002587  \n",
      "10       0.003164  0.967262    0.002577  0.967251  0.002570  \n",
      "19       0.006306  0.971726    0.006819  0.971713  0.006831  \n",
      "24       0.004115  0.968750    0.004464  0.968737  0.004473  \n",
      "8        0.028058  0.885417    0.027277  0.884823  0.027490  \n",
      "7        0.001319  0.967262    0.002577  0.967245  0.002602  \n",
      "1        0.004918  0.964286    0.004464  0.964279  0.004457  \n",
      "22       0.032196  0.937500    0.038143  0.937205  0.038527  \n",
      "28       0.009042  0.943452    0.009293  0.943388  0.009321  \n"
     ]
    }
   ],
   "source": [
    "# pred0 = pd.read_csv(f\"../predictions/k_is_0/french_xlm_xnli/1epoch_train28\").sample(frac=1)\n",
    "# pred1 = pd.read_csv(f\"../predictions/k_is_1/french_xlm_xnli/1epoch_train28\").sample(frac=1)\n",
    "# pred2 = pd.read_csv(f\"../predictions/k_is_2/french_xlm_xnli/1epoch_train28\").sample(frac=1)"
   ]
  }
 ],
 "metadata": {
  "kernelspec": {
   "display_name": "Python 3",
   "language": "python",
   "name": "python3"
  },
  "language_info": {
   "codemirror_mode": {
    "name": "ipython",
    "version": 3
   },
   "file_extension": ".py",
   "mimetype": "text/x-python",
   "name": "python",
   "nbconvert_exporter": "python",
   "pygments_lexer": "ipython3",
   "version": "3.10.6"
  },
  "orig_nbformat": 4,
  "vscode": {
   "interpreter": {
    "hash": "916dbcbb3f70747c44a77c7bcd40155683ae19c65e1c03b4aa3499c5328201f1"
   }
  }
 },
 "nbformat": 4,
 "nbformat_minor": 2
}
