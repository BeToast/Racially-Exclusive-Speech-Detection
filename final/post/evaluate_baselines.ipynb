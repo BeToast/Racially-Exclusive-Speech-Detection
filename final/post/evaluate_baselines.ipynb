{
 "cells": [
  {
   "cell_type": "code",
   "execution_count": 3,
   "metadata": {},
   "outputs": [
    {
     "name": "stderr",
     "output_type": "stream",
     "text": [
      "/home/blake/.local/lib/python3.10/site-packages/sklearn/metrics/_classification.py:1334: UndefinedMetricWarning: Precision and F-score are ill-defined and being set to 0.0 in labels with no predicted samples. Use `zero_division` parameter to control this behavior.\n",
      "  _warn_prf(average, modifier, msg_start, len(result))\n",
      "/home/blake/.local/lib/python3.10/site-packages/sklearn/metrics/_classification.py:1334: UndefinedMetricWarning: Precision and F-score are ill-defined and being set to 0.0 in labels with no predicted samples. Use `zero_division` parameter to control this behavior.\n",
      "  _warn_prf(average, modifier, msg_start, len(result))\n",
      "/home/blake/.local/lib/python3.10/site-packages/sklearn/metrics/_classification.py:1334: UndefinedMetricWarning: Precision and F-score are ill-defined and being set to 0.0 in labels with no predicted samples. Use `zero_division` parameter to control this behavior.\n",
      "  _warn_prf(average, modifier, msg_start, len(result))\n"
     ]
    }
   ],
   "source": [
    "from statistics import stdev\n",
    "from sklearn.metrics import precision_recall_fscore_support, accuracy_score\n",
    "from os import walk, makedirs\n",
    "import pandas as pd\n",
    "import numpy as np\n",
    "\n",
    "predictions_dir = '../predictions/'\n",
    "# k_folds_dirs = next(walk(predictions_dir))[1]\n",
    "baseline_dirnames = ['Bert_embeddings', 'TFidf']\n",
    "result_cols=[\"model\", \"traindata\", \"accuracy\", \"std_accuracy\", \"precision\", \"std_precision\", \"recall\", \"std_recall\", \"f1\", \"std_f1\"]\n",
    "dfs = {'Bert_embeddings':pd.DataFrame(columns=result_cols),'TFidf':pd.DataFrame(columns=result_cols)}\n",
    "\n",
    "for baseline in baseline_dirnames:\n",
    "  df = dfs.get(baseline)\n",
    "  model_dirs = next(walk(f\"{predictions_dir}/k_is_0/{baseline}\"))[1]\n",
    "  for model in model_dirs:\n",
    "    result_files = next(walk(f\"{predictions_dir}/k_is_0/{baseline}/{model}\"))[2]\n",
    "    for file in result_files: # 'text', 'class', 'predicted'\n",
    "      prec = list()\n",
    "      recall = list()\n",
    "      f1 = list()\n",
    "      accuracy = list()\n",
    "      for k in range(0,3):\n",
    "        results = pd.read_csv(f\"{predictions_dir}/k_is_{k}/{baseline}/{model}/{file}\").sample(frac=1)\n",
    "        prec_curr, recall_curr, f1_curr, _ = precision_recall_fscore_support(results[\"class\"], results[\"predicted\"], average='macro')\n",
    "        accuracy_curr = accuracy_score(results[\"class\"], results[\"predicted\"])\n",
    "        prec.append(prec_curr)\n",
    "        recall.append(recall_curr)\n",
    "        f1.append(f1_curr)\n",
    "        accuracy.append(accuracy_curr)\n",
    "      \n",
    "      # add results to dict\n",
    "      df.loc[len(df.index)] = [model, file,\n",
    "                              np.mean(accuracy), stdev(accuracy),\n",
    "                              np.mean(prec), stdev(prec),\n",
    "                              np.mean(recall), stdev(recall),\n",
    "                              np.mean(f1), stdev(f1)]"
   ]
  },
  {
   "cell_type": "code",
   "execution_count": 4,
   "metadata": {},
   "outputs": [],
   "source": [
    "results_dir=\"../results\"\n",
    "for baseline in baseline_dirnames:\n",
    "  dfs[baseline].to_csv(f\"{results_dir}/{baseline}\", index=False)"
   ]
  }
 ],
 "metadata": {
  "kernelspec": {
   "display_name": "fyp",
   "language": "python",
   "name": "python3"
  },
  "language_info": {
   "codemirror_mode": {
    "name": "ipython",
    "version": 3
   },
   "file_extension": ".py",
   "mimetype": "text/x-python",
   "name": "python",
   "nbconvert_exporter": "python",
   "pygments_lexer": "ipython3",
   "version": "3.10.6"
  },
  "orig_nbformat": 4,
  "vscode": {
   "interpreter": {
    "hash": "9a087ff6df60b7b11c8f40c254358573ffeaae9884c78b2d4011057590ac9004"
   }
  }
 },
 "nbformat": 4,
 "nbformat_minor": 2
}
