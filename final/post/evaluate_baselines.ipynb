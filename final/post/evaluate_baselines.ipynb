{
 "cells": [
  {
   "cell_type": "code",
   "execution_count": 2,
   "metadata": {},
   "outputs": [
    {
     "ename": "ModuleNotFoundError",
     "evalue": "No module named 'sklearn'",
     "output_type": "error",
     "traceback": [
      "\u001b[0;31m---------------------------------------------------------------------------\u001b[0m",
      "\u001b[0;31mModuleNotFoundError\u001b[0m                       Traceback (most recent call last)",
      "Cell \u001b[0;32mIn[2], line 2\u001b[0m\n\u001b[1;32m      1\u001b[0m \u001b[39mfrom\u001b[39;00m \u001b[39mstatistics\u001b[39;00m \u001b[39mimport\u001b[39;00m stdev\n\u001b[0;32m----> 2\u001b[0m \u001b[39mfrom\u001b[39;00m \u001b[39msklearn\u001b[39;00m\u001b[39m.\u001b[39;00m\u001b[39mmetrics\u001b[39;00m \u001b[39mimport\u001b[39;00m precision_recall_fscore_support, accuracy_score\n\u001b[1;32m      3\u001b[0m \u001b[39mfrom\u001b[39;00m \u001b[39mos\u001b[39;00m \u001b[39mimport\u001b[39;00m walk, makedirs\n\u001b[1;32m      4\u001b[0m \u001b[39mimport\u001b[39;00m \u001b[39mpandas\u001b[39;00m \u001b[39mas\u001b[39;00m \u001b[39mpd\u001b[39;00m\n",
      "\u001b[0;31mModuleNotFoundError\u001b[0m: No module named 'sklearn'"
     ]
    }
   ],
   "source": [
    "from statistics import stdev\n",
    "from sklearn.metrics import precision_recall_fscore_support, accuracy_score\n",
    "from os import walk, makedirs\n",
    "import pandas as pd\n",
    "import numpy as np\n",
    "\n",
    "predictions_dir = '../predictions/'\n",
    "# k_folds_dirs = next(walk(predictions_dir))[1]\n",
    "baseline_dirnames = ['Bert_embeddings', 'TFidf']\n",
    "result_cols=[\"model\", \"traindata\", \"accuracy\", \"std_accuracy\", \"precision\", \"std_precision\", \"recall\", \"std_recall\", \"f1\", \"std_f1\"]\n",
    "dfs = {'Bert_embeddings':pd.DataFrame(columns=result_cols),'TFidf':pd.DataFrame(columns=result_cols)}\n",
    "\n",
    "for baseline in baseline_dirnames:\n",
    "  df = dfs.get(baseline)\n",
    "  model_dirs = next(walk(f\"{predictions_dir}/k_is_0/{baseline}\"))[1]\n",
    "  for model in model_dirs:\n",
    "    result_files = next(walk(f\"{predictions_dir}/k_is_0/{baseline}/{model}\"))[2]\n",
    "    for file in result_files: # 'text', 'class', 'predicted'\n",
    "      prec = list()\n",
    "      recall = list()\n",
    "      f1 = list()\n",
    "      accuracy = list()\n",
    "      \n",
    "      for k in range(0,3):\n",
    "        results = pd.read_csv(f\"{predictions_dir}/k_is_{k}/{baseline}/{model}/{file}\").sample(frac=1)\n",
    "        prec_curr, recall_curr, f1_curr, _ = precision_recall_fscore_support(results[\"class\"], results[\"predicted\"], average='macro')\n",
    "        accuracy_curr = accuracy_score(results[\"class\"], results[\"predicted\"])\n",
    "        prec.append(prec_curr)\n",
    "        recall.append(recall_curr)\n",
    "        f1.append(f1_curr)\n",
    "        accuracy.append(accuracy_curr)\n",
    "      \n",
    "      # add results to dict\n",
    "      df.loc[len(df.index)] = [model, file,\n",
    "                              np.mean(accuracy), stdev(accuracy),\n",
    "                              np.mean(prec), stdev(prec),\n",
    "                              np.mean(recall), stdev(recall),\n",
    "                              np.mean(f1), stdev(f1)]"
   ]
  },
  {
   "cell_type": "code",
   "execution_count": 3,
   "metadata": {},
   "outputs": [],
   "source": [
    "results_dir=\"../results\"\n",
    "for baseline in baseline_dirnames:\n",
    "  dfs[baseline].to_csv(f\"{results_dir}/{baseline}\", index=False)"
   ]
  },
  {
   "attachments": {},
   "cell_type": "markdown",
   "metadata": {},
   "source": [
    "##### make the latex results chart"
   ]
  },
  {
   "cell_type": "code",
   "execution_count": null,
   "metadata": {},
   "outputs": [],
   "source": [
    "latexCols=[\"model\",\"2quads\",\"4quads\",\"8quads\",\"16quads\",\"22quads\",\"28quads\"]\n",
    "modelNames=list()\n",
    "trainNames=[\"train2\",\"train4\",\"train8\",\"train16\",\"train22\",\"train28\"]\n",
    "\n",
    "for baseline in baseline_dirnames:\n",
    "  modelNames=df.model.unique() #get modelnames\n",
    "  latex_df=pd.DataFrame(columns=latexCols)\n",
    "  latex_df.model = modelNames\n",
    "  # for index, row in latex_df.iterrows():\n",
    "  #   latex_df.at[2,'age']\n",
    "  \n"
   ]
  }
 ],
 "metadata": {
  "kernelspec": {
   "display_name": "fyp",
   "language": "python",
   "name": "python3"
  },
  "language_info": {
   "codemirror_mode": {
    "name": "ipython",
    "version": 3
   },
   "file_extension": ".py",
   "mimetype": "text/x-python",
   "name": "python",
   "nbconvert_exporter": "python",
   "pygments_lexer": "ipython3",
   "version": "3.10.6"
  },
  "orig_nbformat": 4,
  "vscode": {
   "interpreter": {
    "hash": "9a087ff6df60b7b11c8f40c254358573ffeaae9884c78b2d4011057590ac9004"
   }
  }
 },
 "nbformat": 4,
 "nbformat_minor": 2
}
